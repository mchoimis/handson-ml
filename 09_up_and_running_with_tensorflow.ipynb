{
 "cells": [
  {
   "cell_type": "markdown",
   "metadata": {},
   "source": [
    "**Chapter 9 – Up and running with TensorFlow**"
   ]
  },
  {
   "cell_type": "markdown",
   "metadata": {},
   "source": [
    "_This notebook contains all the sample code and solutions to the exercises in chapter 9._"
   ]
  },
  {
   "cell_type": "markdown",
   "metadata": {},
   "source": [
    "# Setup"
   ]
  },
  {
   "cell_type": "markdown",
   "metadata": {},
   "source": [
    "First, let's make sure this notebook works well in both python 2 and 3, import a few common modules, ensure MatplotLib plots figures inline and prepare a function to save the figures:"
   ]
  },
  {
   "cell_type": "code",
   "execution_count": 3,
   "metadata": {},
   "outputs": [],
   "source": [
    "# To support both python 2 and python 3\n",
    "from __future__ import division, print_function, unicode_literals\n",
    "\n",
    "# Common imports\n",
    "import numpy as np\n",
    "import os\n",
    "\n",
    "# to make this notebook's output stable across runs\n",
    "def reset_graph(seed=42):\n",
    "    tf.reset_default_graph()\n",
    "    tf.set_random_seed(seed)\n",
    "    np.random.seed(seed)\n",
    "\n",
    "# To plot pretty figures\n",
    "%matplotlib inline\n",
    "import matplotlib\n",
    "import matplotlib.pyplot as plt\n",
    "plt.rcParams['axes.labelsize'] = 14\n",
    "plt.rcParams['xtick.labelsize'] = 12\n",
    "plt.rcParams['ytick.labelsize'] = 12\n",
    "\n",
    "# Where to save the figures\n",
    "PROJECT_ROOT_DIR = \".\"\n",
    "CHAPTER_ID = \"tensorflow\"\n",
    "\n",
    "def save_fig(fig_id, tight_layout=True):\n",
    "    path = os.path.join(PROJECT_ROOT_DIR, \"images\", CHAPTER_ID, fig_id + \".png\")\n",
    "    print(\"Saving figure\", fig_id)\n",
    "    if tight_layout:\n",
    "        plt.tight_layout()\n",
    "    plt.savefig(path, format='png', dpi=300)"
   ]
  },
  {
   "cell_type": "markdown",
   "metadata": {},
   "source": [
    "# Creating and running a graph"
   ]
  },
  {
   "cell_type": "code",
   "execution_count": 4,
   "metadata": {},
   "outputs": [],
   "source": [
    "import tensorflow as tf\n",
    "\n",
    "reset_graph()\n",
    "\n",
    "x = tf.Variable(3, name=\"x\")\n",
    "y = tf.Variable(4, name=\"y\")\n",
    "f = x*x*y + y + 2"
   ]
  },
  {
   "cell_type": "code",
   "execution_count": 5,
   "metadata": {},
   "outputs": [
    {
     "data": {
      "text/plain": [
       "<tf.Tensor 'add_1:0' shape=() dtype=int32>"
      ]
     },
     "execution_count": 5,
     "metadata": {},
     "output_type": "execute_result"
    }
   ],
   "source": [
    "f"
   ]
  },
  {
   "cell_type": "code",
   "execution_count": 6,
   "metadata": {},
   "outputs": [
    {
     "name": "stdout",
     "output_type": "stream",
     "text": [
      "42\n"
     ]
    }
   ],
   "source": [
    "sess = tf.Session()\n",
    "sess.run(x.initializer)\n",
    "sess.run(y.initializer)\n",
    "result = sess.run(f)\n",
    "print(result)"
   ]
  },
  {
   "cell_type": "code",
   "execution_count": 7,
   "metadata": {},
   "outputs": [],
   "source": [
    "sess.close()"
   ]
  },
  {
   "cell_type": "code",
   "execution_count": 8,
   "metadata": {},
   "outputs": [],
   "source": [
    "with tf.Session() as sess:\n",
    "    x.initializer.run()\n",
    "    y.initializer.run()\n",
    "    result = f.eval()"
   ]
  },
  {
   "cell_type": "code",
   "execution_count": 9,
   "metadata": {},
   "outputs": [
    {
     "data": {
      "text/plain": [
       "42"
      ]
     },
     "execution_count": 9,
     "metadata": {},
     "output_type": "execute_result"
    }
   ],
   "source": [
    "result"
   ]
  },
  {
   "cell_type": "code",
   "execution_count": 8,
   "metadata": {},
   "outputs": [],
   "source": [
    "init = tf.global_variables_initializer()\n",
    "\n",
    "with tf.Session() as sess:\n",
    "    init.run()\n",
    "    result = f.eval()"
   ]
  },
  {
   "cell_type": "code",
   "execution_count": 9,
   "metadata": {},
   "outputs": [
    {
     "data": {
      "text/plain": [
       "42"
      ]
     },
     "execution_count": 9,
     "metadata": {},
     "output_type": "execute_result"
    }
   ],
   "source": [
    "result"
   ]
  },
  {
   "cell_type": "code",
   "execution_count": 10,
   "metadata": {},
   "outputs": [],
   "source": [
    "init = tf.global_variables_initializer()"
   ]
  },
  {
   "cell_type": "code",
   "execution_count": 11,
   "metadata": {},
   "outputs": [
    {
     "name": "stdout",
     "output_type": "stream",
     "text": [
      "42\n"
     ]
    }
   ],
   "source": [
    "sess = tf.InteractiveSession()\n",
    "init.run()\n",
    "result = f.eval()\n",
    "print(result)"
   ]
  },
  {
   "cell_type": "code",
   "execution_count": 12,
   "metadata": {},
   "outputs": [],
   "source": [
    "sess.close()"
   ]
  },
  {
   "cell_type": "code",
   "execution_count": 13,
   "metadata": {},
   "outputs": [
    {
     "data": {
      "text/plain": [
       "42"
      ]
     },
     "execution_count": 13,
     "metadata": {},
     "output_type": "execute_result"
    }
   ],
   "source": [
    "result"
   ]
  },
  {
   "cell_type": "markdown",
   "metadata": {},
   "source": [
    "# Managing graphs"
   ]
  },
  {
   "cell_type": "code",
   "execution_count": 11,
   "metadata": {},
   "outputs": [
    {
     "data": {
      "text/plain": [
       "True"
      ]
     },
     "execution_count": 11,
     "metadata": {},
     "output_type": "execute_result"
    }
   ],
   "source": [
    "reset_graph()\n",
    "\n",
    "x1 = tf.Variable(1)\n",
    "x1.graph is tf.get_default_graph()"
   ]
  },
  {
   "cell_type": "code",
   "execution_count": 12,
   "metadata": {},
   "outputs": [
    {
     "data": {
      "text/plain": [
       "True"
      ]
     },
     "execution_count": 12,
     "metadata": {},
     "output_type": "execute_result"
    }
   ],
   "source": [
    "graph = tf.Graph()\n",
    "with graph.as_default():\n",
    "    x2 = tf.Variable(2)\n",
    "\n",
    "x2.graph is graph"
   ]
  },
  {
   "cell_type": "code",
   "execution_count": 13,
   "metadata": {
    "scrolled": true
   },
   "outputs": [
    {
     "data": {
      "text/plain": [
       "False"
      ]
     },
     "execution_count": 13,
     "metadata": {},
     "output_type": "execute_result"
    }
   ],
   "source": [
    "x2.graph is tf.get_default_graph()"
   ]
  },
  {
   "cell_type": "code",
   "execution_count": 14,
   "metadata": {},
   "outputs": [
    {
     "name": "stdout",
     "output_type": "stream",
     "text": [
      "10\n",
      "15\n"
     ]
    }
   ],
   "source": [
    "w = tf.constant(3)\n",
    "x = w + 2\n",
    "y = x + 5\n",
    "z = x * 3\n",
    "\n",
    "with tf.Session() as sess:\n",
    "    print(y.eval())  # 10\n",
    "    print(z.eval())  # 15"
   ]
  },
  {
   "cell_type": "code",
   "execution_count": 15,
   "metadata": {},
   "outputs": [
    {
     "name": "stdout",
     "output_type": "stream",
     "text": [
      "10\n",
      "15\n"
     ]
    }
   ],
   "source": [
    "with tf.Session() as sess:\n",
    "    y_val, z_val = sess.run([y, z])\n",
    "    print(y_val)  # 10\n",
    "    print(z_val)  # 15"
   ]
  },
  {
   "cell_type": "markdown",
   "metadata": {},
   "source": [
    "# Linear Regression"
   ]
  },
  {
   "cell_type": "markdown",
   "metadata": {},
   "source": [
    "## Using the Normal Equation"
   ]
  },
  {
   "cell_type": "code",
   "execution_count": 16,
   "metadata": {},
   "outputs": [
    {
     "name": "stderr",
     "output_type": "stream",
     "text": [
<<<<<<< HEAD
      "Downloading Cal. housing from https://ndownloader.figshare.com/files/5976036 to /Users/minjungchoi/scikit_learn_data\n"
=======
      "Downloading Cal. housing from https://ndownloader.figshare.com/files/5976036 to C:\\Users\\MinjungChoi\\scikit_learn_data\n"
>>>>>>> 5d2005123c9e56f3d9b1fb11514c6a868cbaad89
     ]
    }
   ],
   "source": [
    "import numpy as np\n",
    "from sklearn.datasets import fetch_california_housing\n",
    "\n",
    "reset_graph()\n",
    "\n",
    "housing = fetch_california_housing()\n",
    "m, n = housing.data.shape\n",
    "housing_data_plus_bias = np.c_[np.ones((m, 1)), housing.data]\n",
    "\n",
    "X = tf.constant(housing_data_plus_bias, dtype=tf.float32, name=\"X\")\n",
    "y = tf.constant(housing.target.reshape(-1, 1), dtype=tf.float32, name=\"y\")\n",
    "XT = tf.transpose(X)\n",
    "theta = tf.matmul(tf.matmul(tf.matrix_inverse(tf.matmul(XT, X)), XT), y)\n",
    "\n",
    "with tf.Session() as sess:\n",
    "    theta_value = theta.eval()"
   ]
  },
  {
   "cell_type": "code",
   "execution_count": 17,
   "metadata": {},
   "outputs": [
    {
     "data": {
      "text/plain": [
       "array([[-3.7185181e+01],\n",
       "       [ 4.3633747e-01],\n",
       "       [ 9.3952334e-03],\n",
       "       [-1.0711310e-01],\n",
       "       [ 6.4479220e-01],\n",
       "       [-4.0338000e-06],\n",
       "       [-3.7813708e-03],\n",
       "       [-4.2348403e-01],\n",
       "       [-4.3721911e-01]], dtype=float32)"
      ]
     },
     "execution_count": 17,
     "metadata": {},
     "output_type": "execute_result"
    }
   ],
   "source": [
    "theta_value"
   ]
  },
  {
   "cell_type": "markdown",
   "metadata": {},
   "source": [
    "Compare with pure NumPy"
   ]
  },
  {
   "cell_type": "code",
   "execution_count": 18,
   "metadata": {},
   "outputs": [
    {
     "name": "stdout",
     "output_type": "stream",
     "text": [
      "[[-3.69419202e+01]\n",
      " [ 4.36693293e-01]\n",
      " [ 9.43577803e-03]\n",
      " [-1.07322041e-01]\n",
      " [ 6.45065694e-01]\n",
      " [-3.97638942e-06]\n",
      " [-3.78654265e-03]\n",
      " [-4.21314378e-01]\n",
      " [-4.34513755e-01]]\n"
     ]
    }
   ],
   "source": [
    "X = housing_data_plus_bias\n",
    "y = housing.target.reshape(-1, 1)\n",
    "theta_numpy = np.linalg.inv(X.T.dot(X)).dot(X.T).dot(y)\n",
    "\n",
    "print(theta_numpy)"
   ]
  },
  {
   "cell_type": "markdown",
   "metadata": {},
   "source": [
    "Compare with Scikit-Learn"
   ]
  },
  {
   "cell_type": "code",
   "execution_count": 19,
   "metadata": {},
   "outputs": [
    {
     "name": "stdout",
     "output_type": "stream",
     "text": [
      "[[-3.69419202e+01]\n",
      " [ 4.36693293e-01]\n",
      " [ 9.43577803e-03]\n",
      " [-1.07322041e-01]\n",
      " [ 6.45065694e-01]\n",
      " [-3.97638942e-06]\n",
      " [-3.78654265e-03]\n",
      " [-4.21314378e-01]\n",
      " [-4.34513755e-01]]\n"
     ]
    }
   ],
   "source": [
    "from sklearn.linear_model import LinearRegression\n",
    "lin_reg = LinearRegression()\n",
    "lin_reg.fit(housing.data, housing.target.reshape(-1, 1))\n",
    "\n",
    "print(np.r_[lin_reg.intercept_.reshape(-1, 1), lin_reg.coef_.T])"
   ]
  },
  {
   "cell_type": "markdown",
   "metadata": {},
   "source": [
    "## Using Batch Gradient Descent"
   ]
  },
  {
   "cell_type": "markdown",
   "metadata": {},
   "source": [
    "Gradient Descent requires scaling the feature vectors first. We could do this using TF, but let's just use Scikit-Learn for now."
   ]
  },
  {
   "cell_type": "code",
   "execution_count": 20,
   "metadata": {},
   "outputs": [],
   "source": [
    "from sklearn.preprocessing import StandardScaler\n",
    "scaler = StandardScaler()\n",
    "scaled_housing_data = scaler.fit_transform(housing.data)\n",
    "scaled_housing_data_plus_bias = np.c_[np.ones((m, 1)), scaled_housing_data]"
   ]
  },
  {
   "cell_type": "code",
   "execution_count": 21,
   "metadata": {},
   "outputs": [
    {
     "name": "stdout",
     "output_type": "stream",
     "text": [
      "[ 1.00000000e+00  6.60969987e-17  5.50808322e-18  6.60969987e-17\n",
      " -1.06030602e-16 -1.10161664e-17  3.44255201e-18 -1.07958431e-15\n",
      " -8.52651283e-15]\n",
      "[ 0.38915536  0.36424355  0.5116157  ... -0.06612179 -0.06360587\n",
      "  0.01359031]\n",
      "0.11111111111111005\n",
      "(20640, 9)\n"
     ]
    }
   ],
   "source": [
    "print(scaled_housing_data_plus_bias.mean(axis=0))\n",
    "print(scaled_housing_data_plus_bias.mean(axis=1))\n",
    "print(scaled_housing_data_plus_bias.mean())\n",
    "print(scaled_housing_data_plus_bias.shape)"
   ]
  },
  {
   "cell_type": "markdown",
   "metadata": {},
   "source": [
    "### Manually computing the gradients"
   ]
  },
  {
   "cell_type": "code",
   "execution_count": 22,
   "metadata": {},
   "outputs": [
    {
     "name": "stdout",
     "output_type": "stream",
     "text": [
      "Epoch 0 MSE = 9.161543\n",
      "Epoch 100 MSE = 0.71450067\n",
      "Epoch 200 MSE = 0.5667049\n",
      "Epoch 300 MSE = 0.5555719\n",
      "Epoch 400 MSE = 0.5488112\n",
      "Epoch 500 MSE = 0.5436362\n",
      "Epoch 600 MSE = 0.5396294\n",
      "Epoch 700 MSE = 0.53650916\n",
      "Epoch 800 MSE = 0.5340678\n",
      "Epoch 900 MSE = 0.5321474\n"
     ]
    }
   ],
   "source": [
    "reset_graph()\n",
    "\n",
    "n_epochs = 1000\n",
    "learning_rate = 0.01\n",
    "\n",
    "X = tf.constant(scaled_housing_data_plus_bias, dtype=tf.float32, name=\"X\")\n",
    "y = tf.constant(housing.target.reshape(-1, 1), dtype=tf.float32, name=\"y\")\n",
    "theta = tf.Variable(tf.random_uniform([n + 1, 1], -1.0, 1.0, seed=42), name=\"theta\")\n",
    "y_pred = tf.matmul(X, theta, name=\"predictions\")\n",
    "error = y_pred - y\n",
    "mse = tf.reduce_mean(tf.square(error), name=\"mse\")\n",
    "gradients = 2/m * tf.matmul(tf.transpose(X), error)\n",
    "training_op = tf.assign(theta, theta - learning_rate * gradients)\n",
    "\n",
    "init = tf.global_variables_initializer()\n",
    "\n",
    "with tf.Session() as sess:\n",
    "    sess.run(init)\n",
    "\n",
    "    for epoch in range(n_epochs):\n",
    "        if epoch % 100 == 0:\n",
    "            print(\"Epoch\", epoch, \"MSE =\", mse.eval())\n",
    "        sess.run(training_op)\n",
    "    \n",
    "    best_theta = theta.eval()"
   ]
  },
  {
   "cell_type": "code",
   "execution_count": 23,
   "metadata": {},
   "outputs": [
    {
     "data": {
      "text/plain": [
       "array([[ 2.0685523 ],\n",
       "       [ 0.8874027 ],\n",
       "       [ 0.14401656],\n",
       "       [-0.34770885],\n",
       "       [ 0.36178368],\n",
       "       [ 0.00393811],\n",
       "       [-0.04269556],\n",
       "       [-0.66145283],\n",
       "       [-0.6375278 ]], dtype=float32)"
      ]
     },
     "execution_count": 23,
     "metadata": {},
     "output_type": "execute_result"
    }
   ],
   "source": [
    "best_theta"
   ]
  },
  {
   "cell_type": "markdown",
   "metadata": {},
   "source": [
    "### Using autodiff"
   ]
  },
  {
   "cell_type": "markdown",
   "metadata": {},
   "source": [
    "Same as above except for the `gradients = ...` line:"
   ]
  },
  {
   "cell_type": "code",
   "execution_count": 24,
   "metadata": {},
   "outputs": [],
   "source": [
    "reset_graph()\n",
    "\n",
    "n_epochs = 1000\n",
    "learning_rate = 0.01\n",
    "\n",
    "X = tf.constant(scaled_housing_data_plus_bias, dtype=tf.float32, name=\"X\")\n",
    "y = tf.constant(housing.target.reshape(-1, 1), dtype=tf.float32, name=\"y\")\n",
    "theta = tf.Variable(tf.random_uniform([n + 1, 1], -1.0, 1.0, seed=42), name=\"theta\")\n",
    "y_pred = tf.matmul(X, theta, name=\"predictions\")\n",
    "error = y_pred - y\n",
    "mse = tf.reduce_mean(tf.square(error), name=\"mse\")"
   ]
  },
  {
   "cell_type": "code",
   "execution_count": 25,
   "metadata": {},
   "outputs": [],
   "source": [
    "gradients = tf.gradients(mse, [theta])[0]"
   ]
  },
  {
   "cell_type": "code",
   "execution_count": 26,
   "metadata": {},
   "outputs": [
    {
     "name": "stdout",
     "output_type": "stream",
     "text": [
      "Epoch 0 MSE = 9.161543\n",
      "Epoch 100 MSE = 0.7145006\n",
      "Epoch 200 MSE = 0.566705\n",
      "Epoch 300 MSE = 0.5555719\n",
      "Epoch 400 MSE = 0.5488112\n",
      "Epoch 500 MSE = 0.5436362\n",
      "Epoch 600 MSE = 0.5396294\n",
      "Epoch 700 MSE = 0.5365092\n",
      "Epoch 800 MSE = 0.5340678\n",
      "Epoch 900 MSE = 0.5321474\n",
      "Best theta:\n",
      "[[ 2.0685525 ]\n",
      " [ 0.8874027 ]\n",
      " [ 0.14401658]\n",
      " [-0.34770882]\n",
      " [ 0.36178368]\n",
      " [ 0.00393811]\n",
      " [-0.04269556]\n",
      " [-0.6614528 ]\n",
      " [-0.6375277 ]]\n"
     ]
    }
   ],
   "source": [
    "training_op = tf.assign(theta, theta - learning_rate * gradients)\n",
    "\n",
    "init = tf.global_variables_initializer()\n",
    "\n",
    "with tf.Session() as sess:\n",
    "    sess.run(init)\n",
    "\n",
    "    for epoch in range(n_epochs):\n",
    "        if epoch % 100 == 0:\n",
    "            print(\"Epoch\", epoch, \"MSE =\", mse.eval())\n",
    "        sess.run(training_op)\n",
    "    \n",
    "    best_theta = theta.eval()\n",
    "\n",
    "print(\"Best theta:\")\n",
    "print(best_theta)"
   ]
  },
  {
   "cell_type": "markdown",
   "metadata": {},
   "source": [
    "How could you find the partial derivatives of the following function with regards to `a` and `b`?"
   ]
  },
  {
   "cell_type": "code",
   "execution_count": 29,
   "metadata": {},
   "outputs": [],
   "source": [
    "def my_func(a, b):\n",
    "    z = 0\n",
    "    for i in range(100):\n",
    "        z = a * np.cos(z + i) + z * np.sin(b - i)\n",
    "    return z"
   ]
  },
  {
   "cell_type": "code",
   "execution_count": 30,
   "metadata": {},
   "outputs": [
    {
     "data": {
      "text/plain": [
       "-0.21253923284754916"
      ]
     },
     "execution_count": 30,
     "metadata": {},
     "output_type": "execute_result"
    }
   ],
   "source": [
    "my_func(0.2, 0.3)"
   ]
  },
  {
   "cell_type": "code",
   "execution_count": 31,
   "metadata": {},
   "outputs": [],
   "source": [
    "reset_graph()\n",
    "\n",
    "a = tf.Variable(0.2, name=\"a\")\n",
    "b = tf.Variable(0.3, name=\"b\")\n",
    "z = tf.constant(0.0, name=\"z0\")\n",
    "for i in range(100):\n",
    "    z = a * tf.cos(z + i) + z * tf.sin(b - i)\n",
    "\n",
    "grads = tf.gradients(z, [a, b])\n",
    "init = tf.global_variables_initializer()"
   ]
  },
  {
   "cell_type": "markdown",
   "metadata": {},
   "source": [
    "Let's compute the function at $a=0.2$ and $b=0.3$, and the partial derivatives at that point with regards to $a$ and with regards to $b$:"
   ]
  },
  {
   "cell_type": "code",
   "execution_count": 32,
   "metadata": {},
   "outputs": [
    {
     "name": "stdout",
     "output_type": "stream",
     "text": [
      "-0.21253741\n",
      "[-1.1388494, 0.19671395]\n"
     ]
    }
   ],
   "source": [
    "with tf.Session() as sess:\n",
    "    init.run()\n",
    "    print(z.eval())\n",
    "    print(sess.run(grads))"
   ]
  },
  {
   "cell_type": "markdown",
   "metadata": {},
   "source": [
    "### Using a `GradientDescentOptimizer`"
   ]
  },
  {
   "cell_type": "code",
   "execution_count": 33,
   "metadata": {},
   "outputs": [],
   "source": [
    "reset_graph()\n",
    "\n",
    "n_epochs = 1000\n",
    "learning_rate = 0.01\n",
    "\n",
    "X = tf.constant(scaled_housing_data_plus_bias, dtype=tf.float32, name=\"X\")\n",
    "y = tf.constant(housing.target.reshape(-1, 1), dtype=tf.float32, name=\"y\")\n",
    "theta = tf.Variable(tf.random_uniform([n + 1, 1], -1.0, 1.0, seed=42), name=\"theta\")\n",
    "y_pred = tf.matmul(X, theta, name=\"predictions\")\n",
    "error = y_pred - y\n",
    "mse = tf.reduce_mean(tf.square(error), name=\"mse\")"
   ]
  },
  {
   "cell_type": "code",
   "execution_count": 34,
   "metadata": {},
   "outputs": [],
   "source": [
    "optimizer = tf.train.GradientDescentOptimizer(learning_rate=learning_rate)\n",
    "training_op = optimizer.minimize(mse)"
   ]
  },
  {
   "cell_type": "code",
   "execution_count": 35,
   "metadata": {},
   "outputs": [
    {
     "name": "stdout",
     "output_type": "stream",
     "text": [
      "Epoch 0 MSE = 9.161543\n",
      "Epoch 100 MSE = 0.7145006\n",
      "Epoch 200 MSE = 0.566705\n",
      "Epoch 300 MSE = 0.5555719\n",
      "Epoch 400 MSE = 0.5488112\n",
      "Epoch 500 MSE = 0.5436362\n",
      "Epoch 600 MSE = 0.5396294\n",
      "Epoch 700 MSE = 0.5365092\n",
      "Epoch 800 MSE = 0.5340678\n",
      "Epoch 900 MSE = 0.5321474\n",
      "Best theta:\n",
      "[[ 2.0685525 ]\n",
      " [ 0.8874027 ]\n",
      " [ 0.14401658]\n",
      " [-0.34770882]\n",
      " [ 0.36178368]\n",
      " [ 0.00393811]\n",
      " [-0.04269556]\n",
      " [-0.6614528 ]\n",
      " [-0.6375277 ]]\n"
     ]
    }
   ],
   "source": [
    "init = tf.global_variables_initializer()\n",
    "\n",
    "with tf.Session() as sess:\n",
    "    sess.run(init)\n",
    "\n",
    "    for epoch in range(n_epochs):\n",
    "        if epoch % 100 == 0:\n",
    "            print(\"Epoch\", epoch, \"MSE =\", mse.eval())\n",
    "        sess.run(training_op)\n",
    "    \n",
    "    best_theta = theta.eval()\n",
    "\n",
    "print(\"Best theta:\")\n",
    "print(best_theta)"
   ]
  },
  {
   "cell_type": "markdown",
   "metadata": {},
   "source": [
    "### Using a momentum optimizer"
   ]
  },
  {
   "cell_type": "code",
   "execution_count": 36,
   "metadata": {},
   "outputs": [],
   "source": [
    "reset_graph()\n",
    "\n",
    "n_epochs = 1000\n",
    "learning_rate = 0.01\n",
    "\n",
    "X = tf.constant(scaled_housing_data_plus_bias, dtype=tf.float32, name=\"X\")\n",
    "y = tf.constant(housing.target.reshape(-1, 1), dtype=tf.float32, name=\"y\")\n",
    "theta = tf.Variable(tf.random_uniform([n + 1, 1], -1.0, 1.0, seed=42), name=\"theta\")\n",
    "y_pred = tf.matmul(X, theta, name=\"predictions\")\n",
    "error = y_pred - y\n",
    "mse = tf.reduce_mean(tf.square(error), name=\"mse\")"
   ]
  },
  {
   "cell_type": "code",
   "execution_count": 37,
   "metadata": {},
   "outputs": [],
   "source": [
    "optimizer = tf.train.MomentumOptimizer(learning_rate=learning_rate,\n",
    "                                       momentum=0.9)"
   ]
  },
  {
   "cell_type": "code",
   "execution_count": 38,
   "metadata": {},
   "outputs": [],
   "source": [
    "training_op = optimizer.minimize(mse)\n",
    "\n",
    "init = tf.global_variables_initializer()"
   ]
  },
  {
   "cell_type": "code",
   "execution_count": 39,
   "metadata": {},
   "outputs": [
    {
     "name": "stdout",
     "output_type": "stream",
     "text": [
      "Best theta:\n",
      "[[ 2.068558  ]\n",
      " [ 0.8296286 ]\n",
      " [ 0.11875337]\n",
      " [-0.26554456]\n",
      " [ 0.3057109 ]\n",
      " [-0.00450251]\n",
      " [-0.03932662]\n",
      " [-0.89986444]\n",
      " [-0.87052065]]\n"
     ]
    }
   ],
   "source": [
    "with tf.Session() as sess:\n",
    "    sess.run(init)\n",
    "\n",
    "    for epoch in range(n_epochs):\n",
    "        sess.run(training_op)\n",
    "    \n",
    "    best_theta = theta.eval()\n",
    "\n",
    "print(\"Best theta:\")\n",
    "print(best_theta)"
   ]
  },
  {
   "cell_type": "markdown",
   "metadata": {},
   "source": [
    "# Feeding data to the training algorithm"
   ]
  },
  {
   "cell_type": "markdown",
   "metadata": {},
   "source": [
    "## Placeholder nodes"
   ]
  },
  {
   "cell_type": "code",
   "execution_count": 40,
   "metadata": {},
   "outputs": [
    {
     "name": "stdout",
     "output_type": "stream",
     "text": [
      "[[6. 7. 8.]]\n"
     ]
    }
   ],
   "source": [
    "reset_graph()\n",
    "\n",
    "A = tf.placeholder(tf.float32, shape=(None, 3))\n",
    "B = A + 5\n",
    "with tf.Session() as sess:\n",
    "    B_val_1 = B.eval(feed_dict={A: [[1, 2, 3]]})\n",
    "    B_val_2 = B.eval(feed_dict={A: [[4, 5, 6], [7, 8, 9]]})\n",
    "\n",
    "print(B_val_1)"
   ]
  },
  {
   "cell_type": "code",
   "execution_count": 41,
   "metadata": {},
   "outputs": [
    {
     "name": "stdout",
     "output_type": "stream",
     "text": [
      "[[ 9. 10. 11.]\n",
      " [12. 13. 14.]]\n"
     ]
    }
   ],
   "source": [
    "print(B_val_2)"
   ]
  },
  {
   "cell_type": "markdown",
   "metadata": {},
   "source": [
    "## Mini-batch Gradient Descent"
   ]
  },
  {
   "cell_type": "code",
   "execution_count": 42,
   "metadata": {},
   "outputs": [],
   "source": [
    "n_epochs = 1000\n",
    "learning_rate = 0.01"
   ]
  },
  {
   "cell_type": "code",
   "execution_count": 43,
   "metadata": {},
   "outputs": [],
   "source": [
    "reset_graph()\n",
    "\n",
    "X = tf.placeholder(tf.float32, shape=(None, n + 1), name=\"X\")\n",
    "y = tf.placeholder(tf.float32, shape=(None, 1), name=\"y\")"
   ]
  },
  {
   "cell_type": "code",
   "execution_count": 44,
   "metadata": {},
   "outputs": [],
   "source": [
    "theta = tf.Variable(tf.random_uniform([n + 1, 1], -1.0, 1.0, seed=42), name=\"theta\")\n",
    "y_pred = tf.matmul(X, theta, name=\"predictions\")\n",
    "error = y_pred - y\n",
    "mse = tf.reduce_mean(tf.square(error), name=\"mse\")\n",
    "optimizer = tf.train.GradientDescentOptimizer(learning_rate=learning_rate)\n",
    "training_op = optimizer.minimize(mse)\n",
    "\n",
    "init = tf.global_variables_initializer()"
   ]
  },
  {
   "cell_type": "code",
   "execution_count": 45,
   "metadata": {},
   "outputs": [],
   "source": [
    "n_epochs = 10"
   ]
  },
  {
   "cell_type": "code",
   "execution_count": 46,
   "metadata": {},
   "outputs": [],
   "source": [
    "batch_size = 100\n",
    "n_batches = int(np.ceil(m / batch_size))"
   ]
  },
  {
   "cell_type": "code",
   "execution_count": 47,
   "metadata": {},
   "outputs": [],
   "source": [
    "def fetch_batch(epoch, batch_index, batch_size):\n",
    "    np.random.seed(epoch * n_batches + batch_index)  # not shown in the book\n",
    "    indices = np.random.randint(m, size=batch_size)  # not shown\n",
    "    X_batch = scaled_housing_data_plus_bias[indices] # not shown\n",
    "    y_batch = housing.target.reshape(-1, 1)[indices] # not shown\n",
    "    return X_batch, y_batch\n",
    "\n",
    "with tf.Session() as sess:\n",
    "    sess.run(init)\n",
    "\n",
    "    for epoch in range(n_epochs):\n",
    "        for batch_index in range(n_batches):\n",
    "            X_batch, y_batch = fetch_batch(epoch, batch_index, batch_size)\n",
    "            sess.run(training_op, feed_dict={X: X_batch, y: y_batch})\n",
    "\n",
    "    best_theta = theta.eval()"
   ]
  },
  {
   "cell_type": "code",
   "execution_count": 48,
   "metadata": {},
   "outputs": [
    {
     "data": {
      "text/plain": [
       "array([[ 2.0703337 ],\n",
       "       [ 0.8637145 ],\n",
       "       [ 0.12255151],\n",
       "       [-0.31211874],\n",
       "       [ 0.38510373],\n",
       "       [ 0.00434168],\n",
       "       [-0.01232954],\n",
       "       [-0.83376896],\n",
       "       [-0.8030471 ]], dtype=float32)"
      ]
     },
     "execution_count": 48,
     "metadata": {},
     "output_type": "execute_result"
    }
   ],
   "source": [
    "best_theta"
   ]
  },
  {
   "cell_type": "markdown",
   "metadata": {},
   "source": [
    "# Saving and restoring a model"
   ]
  },
  {
   "cell_type": "code",
   "execution_count": 49,
   "metadata": {},
   "outputs": [
    {
     "name": "stdout",
     "output_type": "stream",
     "text": [
      "Epoch 0 MSE = 9.161543\n",
      "Epoch 100 MSE = 0.7145006\n",
      "Epoch 200 MSE = 0.566705\n",
      "Epoch 300 MSE = 0.5555719\n",
      "Epoch 400 MSE = 0.5488112\n",
      "Epoch 500 MSE = 0.5436362\n",
      "Epoch 600 MSE = 0.5396294\n",
      "Epoch 700 MSE = 0.5365092\n",
      "Epoch 800 MSE = 0.5340678\n",
      "Epoch 900 MSE = 0.5321474\n"
     ]
    }
   ],
   "source": [
    "reset_graph()\n",
    "\n",
    "n_epochs = 1000                                                                       # not shown in the book\n",
    "learning_rate = 0.01                                                                  # not shown\n",
    "\n",
    "X = tf.constant(scaled_housing_data_plus_bias, dtype=tf.float32, name=\"X\")            # not shown\n",
    "y = tf.constant(housing.target.reshape(-1, 1), dtype=tf.float32, name=\"y\")            # not shown\n",
    "theta = tf.Variable(tf.random_uniform([n + 1, 1], -1.0, 1.0, seed=42), name=\"theta\")\n",
    "y_pred = tf.matmul(X, theta, name=\"predictions\")                                      # not shown\n",
    "error = y_pred - y                                                                    # not shown\n",
    "mse = tf.reduce_mean(tf.square(error), name=\"mse\")                                    # not shown\n",
    "optimizer = tf.train.GradientDescentOptimizer(learning_rate=learning_rate)            # not shown\n",
    "training_op = optimizer.minimize(mse)                                                 # not shown\n",
    "\n",
    "init = tf.global_variables_initializer()\n",
    "saver = tf.train.Saver()\n",
    "\n",
    "with tf.Session() as sess:\n",
    "    sess.run(init)\n",
    "\n",
    "    for epoch in range(n_epochs):\n",
    "        if epoch % 100 == 0:\n",
    "            print(\"Epoch\", epoch, \"MSE =\", mse.eval())                                # not shown\n",
    "            save_path = saver.save(sess, \"/tmp/my_model.ckpt\")\n",
    "        sess.run(training_op)\n",
    "    \n",
    "    best_theta = theta.eval()\n",
    "    save_path = saver.save(sess, \"/tmp/my_model_final.ckpt\")"
   ]
  },
  {
   "cell_type": "code",
   "execution_count": 50,
   "metadata": {},
   "outputs": [
    {
     "data": {
      "text/plain": [
       "array([[ 2.0685525 ],\n",
       "       [ 0.8874027 ],\n",
       "       [ 0.14401658],\n",
       "       [-0.34770882],\n",
       "       [ 0.36178368],\n",
       "       [ 0.00393811],\n",
       "       [-0.04269556],\n",
       "       [-0.6614528 ],\n",
       "       [-0.6375277 ]], dtype=float32)"
      ]
     },
     "execution_count": 50,
     "metadata": {},
     "output_type": "execute_result"
    }
   ],
   "source": [
    "best_theta"
   ]
  },
  {
   "cell_type": "code",
   "execution_count": 51,
   "metadata": {},
   "outputs": [
    {
     "name": "stdout",
     "output_type": "stream",
     "text": [
      "INFO:tensorflow:Restoring parameters from /tmp/my_model_final.ckpt\n"
     ]
    }
   ],
   "source": [
    "with tf.Session() as sess:\n",
    "    saver.restore(sess, \"/tmp/my_model_final.ckpt\")\n",
    "    best_theta_restored = theta.eval() # not shown in the book"
   ]
  },
  {
   "cell_type": "code",
   "execution_count": 52,
   "metadata": {},
   "outputs": [
    {
     "data": {
      "text/plain": [
       "True"
      ]
     },
     "execution_count": 52,
     "metadata": {},
     "output_type": "execute_result"
    }
   ],
   "source": [
    "np.allclose(best_theta, best_theta_restored)"
   ]
  },
  {
   "cell_type": "markdown",
   "metadata": {},
   "source": [
    "If you want to have a saver that loads and restores `theta` with a different name, such as `\"weights\"`:"
   ]
  },
  {
   "cell_type": "code",
   "execution_count": 53,
   "metadata": {},
   "outputs": [],
   "source": [
    "saver = tf.train.Saver({\"weights\": theta})"
   ]
  },
  {
   "cell_type": "markdown",
   "metadata": {},
   "source": [
    "By default the saver also saves the graph structure itself in a second file with the extension `.meta`. You can use the function `tf.train.import_meta_graph()` to restore the graph structure. This function loads the graph into the default graph and returns a `Saver` that can then be used to restore the graph state (i.e., the variable values):"
   ]
  },
  {
   "cell_type": "code",
   "execution_count": 54,
   "metadata": {},
   "outputs": [
    {
     "name": "stdout",
     "output_type": "stream",
     "text": [
      "INFO:tensorflow:Restoring parameters from /tmp/my_model_final.ckpt\n"
     ]
    }
   ],
   "source": [
    "reset_graph()\n",
    "# notice that we start with an empty graph.\n",
    "\n",
    "saver = tf.train.import_meta_graph(\"/tmp/my_model_final.ckpt.meta\")  # this loads the graph structure\n",
    "theta = tf.get_default_graph().get_tensor_by_name(\"theta:0\") # not shown in the book\n",
    "\n",
    "with tf.Session() as sess:\n",
    "    saver.restore(sess, \"/tmp/my_model_final.ckpt\")  # this restores the graph's state\n",
    "    best_theta_restored = theta.eval() # not shown in the book"
   ]
  },
  {
   "cell_type": "code",
   "execution_count": 55,
   "metadata": {},
   "outputs": [
    {
     "data": {
      "text/plain": [
       "True"
      ]
     },
     "execution_count": 55,
     "metadata": {},
     "output_type": "execute_result"
    }
   ],
   "source": [
    "np.allclose(best_theta, best_theta_restored)"
   ]
  },
  {
   "cell_type": "markdown",
   "metadata": {},
   "source": [
    "This means that you can import a pretrained model without having to have the corresponding Python code to build the graph. This is very handy when you keep tweaking and saving your model: you can load a previously saved model without having to search for the version of the code that built it."
   ]
  },
  {
   "cell_type": "markdown",
   "metadata": {},
   "source": [
    "# Visualizing the graph\n",
    "## inside Jupyter"
   ]
  },
  {
   "cell_type": "markdown",
   "metadata": {},
   "source": [
    "To visualize the graph within Jupyter, we will use a TensorBoard server available online at https://tensorboard.appspot.com/ (so this will not work if you do not have Internet access).  As far as I can tell, this code was originally written by Alex Mordvintsev in his [DeepDream tutorial](https://github.com/tensorflow/tensorflow/blob/master/tensorflow/examples/tutorials/deepdream/deepdream.ipynb). Alternatively, you could use a tool like [tfgraphviz](https://github.com/akimach/tfgraphviz)."
   ]
  },
  {
   "cell_type": "code",
   "execution_count": 56,
   "metadata": {},
   "outputs": [],
   "source": [
    "from tensorflow_graph_in_jupyter import show_graph"
   ]
  },
  {
   "cell_type": "code",
   "execution_count": 57,
   "metadata": {
    "scrolled": false
   },
   "outputs": [
    {
     "data": {
      "text/html": [
       "\n",
       "        <iframe seamless style=\"width:1200px;height:620px;border:0\" srcdoc=\"\n",
       "        <script src=&quot;//cdnjs.cloudflare.com/ajax/libs/polymer/0.3.3/platform.js&quot;></script>\n",
       "        <script>\n",
       "          function load() {\n",
       "            document.getElementById(&quot;graph0.3745401188473625&quot;).pbtxt = 'node {\\n  name: &quot;X&quot;\\n  op: &quot;Const&quot;\\n  attr {\\n    key: &quot;dtype&quot;\\n    value {\\n      type: DT_FLOAT\\n    }\\n  }\\n  attr {\\n    key: &quot;value&quot;\\n    value {\\n      tensor {\\n        dtype: DT_FLOAT\\n        tensor_shape {\\n          dim {\\n            size: 20640\\n          }\\n          dim {\\n            size: 9\\n          }\\n        }\\n        tensor_content: &quot;<stripped 743040 bytes>&quot;\\n      }\\n    }\\n  }\\n}\\nnode {\\n  name: &quot;y&quot;\\n  op: &quot;Const&quot;\\n  attr {\\n    key: &quot;dtype&quot;\\n    value {\\n      type: DT_FLOAT\\n    }\\n  }\\n  attr {\\n    key: &quot;value&quot;\\n    value {\\n      tensor {\\n        dtype: DT_FLOAT\\n        tensor_shape {\\n          dim {\\n            size: 20640\\n          }\\n          dim {\\n            size: 1\\n          }\\n        }\\n        tensor_content: &quot;<stripped 82560 bytes>&quot;\\n      }\\n    }\\n  }\\n}\\nnode {\\n  name: &quot;random_uniform/shape&quot;\\n  op: &quot;Const&quot;\\n  attr {\\n    key: &quot;dtype&quot;\\n    value {\\n      type: DT_INT32\\n    }\\n  }\\n  attr {\\n    key: &quot;value&quot;\\n    value {\\n      tensor {\\n        dtype: DT_INT32\\n        tensor_shape {\\n          dim {\\n            size: 2\\n          }\\n        }\\n        tensor_content: &quot;\\\\t\\\\000\\\\000\\\\000\\\\001\\\\000\\\\000\\\\000&quot;\\n      }\\n    }\\n  }\\n}\\nnode {\\n  name: &quot;random_uniform/min&quot;\\n  op: &quot;Const&quot;\\n  attr {\\n    key: &quot;dtype&quot;\\n    value {\\n      type: DT_FLOAT\\n    }\\n  }\\n  attr {\\n    key: &quot;value&quot;\\n    value {\\n      tensor {\\n        dtype: DT_FLOAT\\n        tensor_shape {\\n        }\\n        float_val: -1.0\\n      }\\n    }\\n  }\\n}\\nnode {\\n  name: &quot;random_uniform/max&quot;\\n  op: &quot;Const&quot;\\n  attr {\\n    key: &quot;dtype&quot;\\n    value {\\n      type: DT_FLOAT\\n    }\\n  }\\n  attr {\\n    key: &quot;value&quot;\\n    value {\\n      tensor {\\n        dtype: DT_FLOAT\\n        tensor_shape {\\n        }\\n        float_val: 1.0\\n      }\\n    }\\n  }\\n}\\nnode {\\n  name: &quot;random_uniform/RandomUniform&quot;\\n  op: &quot;RandomUniform&quot;\\n  input: &quot;random_uniform/shape&quot;\\n  attr {\\n    key: &quot;T&quot;\\n    value {\\n      type: DT_INT32\\n    }\\n  }\\n  attr {\\n    key: &quot;dtype&quot;\\n    value {\\n      type: DT_FLOAT\\n    }\\n  }\\n  attr {\\n    key: &quot;seed&quot;\\n    value {\\n      i: 42\\n    }\\n  }\\n  attr {\\n    key: &quot;seed2&quot;\\n    value {\\n      i: 42\\n    }\\n  }\\n}\\nnode {\\n  name: &quot;random_uniform/sub&quot;\\n  op: &quot;Sub&quot;\\n  input: &quot;random_uniform/max&quot;\\n  input: &quot;random_uniform/min&quot;\\n  attr {\\n    key: &quot;T&quot;\\n    value {\\n      type: DT_FLOAT\\n    }\\n  }\\n}\\nnode {\\n  name: &quot;random_uniform/mul&quot;\\n  op: &quot;Mul&quot;\\n  input: &quot;random_uniform/RandomUniform&quot;\\n  input: &quot;random_uniform/sub&quot;\\n  attr {\\n    key: &quot;T&quot;\\n    value {\\n      type: DT_FLOAT\\n    }\\n  }\\n}\\nnode {\\n  name: &quot;random_uniform&quot;\\n  op: &quot;Add&quot;\\n  input: &quot;random_uniform/mul&quot;\\n  input: &quot;random_uniform/min&quot;\\n  attr {\\n    key: &quot;T&quot;\\n    value {\\n      type: DT_FLOAT\\n    }\\n  }\\n}\\nnode {\\n  name: &quot;theta&quot;\\n  op: &quot;VariableV2&quot;\\n  attr {\\n    key: &quot;container&quot;\\n    value {\\n      s: &quot;&quot;\\n    }\\n  }\\n  attr {\\n    key: &quot;dtype&quot;\\n    value {\\n      type: DT_FLOAT\\n    }\\n  }\\n  attr {\\n    key: &quot;shape&quot;\\n    value {\\n      shape {\\n        dim {\\n          size: 9\\n        }\\n        dim {\\n          size: 1\\n        }\\n      }\\n    }\\n  }\\n  attr {\\n    key: &quot;shared_name&quot;\\n    value {\\n      s: &quot;&quot;\\n    }\\n  }\\n}\\nnode {\\n  name: &quot;theta/Assign&quot;\\n  op: &quot;Assign&quot;\\n  input: &quot;theta&quot;\\n  input: &quot;random_uniform&quot;\\n  attr {\\n    key: &quot;T&quot;\\n    value {\\n      type: DT_FLOAT\\n    }\\n  }\\n  attr {\\n    key: &quot;_class&quot;\\n    value {\\n      list {\\n        s: &quot;loc:@theta&quot;\\n      }\\n    }\\n  }\\n  attr {\\n    key: &quot;use_locking&quot;\\n    value {\\n      b: true\\n    }\\n  }\\n  attr {\\n    key: &quot;validate_shape&quot;\\n    value {\\n      b: true\\n    }\\n  }\\n}\\nnode {\\n  name: &quot;theta/read&quot;\\n  op: &quot;Identity&quot;\\n  input: &quot;theta&quot;\\n  attr {\\n    key: &quot;T&quot;\\n    value {\\n      type: DT_FLOAT\\n    }\\n  }\\n  attr {\\n    key: &quot;_class&quot;\\n    value {\\n      list {\\n        s: &quot;loc:@theta&quot;\\n      }\\n    }\\n  }\\n}\\nnode {\\n  name: &quot;predictions&quot;\\n  op: &quot;MatMul&quot;\\n  input: &quot;X&quot;\\n  input: &quot;theta/read&quot;\\n  attr {\\n    key: &quot;T&quot;\\n    value {\\n      type: DT_FLOAT\\n    }\\n  }\\n  attr {\\n    key: &quot;transpose_a&quot;\\n    value {\\n      b: false\\n    }\\n  }\\n  attr {\\n    key: &quot;transpose_b&quot;\\n    value {\\n      b: false\\n    }\\n  }\\n}\\nnode {\\n  name: &quot;sub&quot;\\n  op: &quot;Sub&quot;\\n  input: &quot;predictions&quot;\\n  input: &quot;y&quot;\\n  attr {\\n    key: &quot;T&quot;\\n    value {\\n      type: DT_FLOAT\\n    }\\n  }\\n}\\nnode {\\n  name: &quot;Square&quot;\\n  op: &quot;Square&quot;\\n  input: &quot;sub&quot;\\n  attr {\\n    key: &quot;T&quot;\\n    value {\\n      type: DT_FLOAT\\n    }\\n  }\\n}\\nnode {\\n  name: &quot;Const&quot;\\n  op: &quot;Const&quot;\\n  attr {\\n    key: &quot;dtype&quot;\\n    value {\\n      type: DT_INT32\\n    }\\n  }\\n  attr {\\n    key: &quot;value&quot;\\n    value {\\n      tensor {\\n        dtype: DT_INT32\\n        tensor_shape {\\n          dim {\\n            size: 2\\n          }\\n        }\\n        tensor_content: &quot;\\\\000\\\\000\\\\000\\\\000\\\\001\\\\000\\\\000\\\\000&quot;\\n      }\\n    }\\n  }\\n}\\nnode {\\n  name: &quot;mse&quot;\\n  op: &quot;Mean&quot;\\n  input: &quot;Square&quot;\\n  input: &quot;Const&quot;\\n  attr {\\n    key: &quot;T&quot;\\n    value {\\n      type: DT_FLOAT\\n    }\\n  }\\n  attr {\\n    key: &quot;Tidx&quot;\\n    value {\\n      type: DT_INT32\\n    }\\n  }\\n  attr {\\n    key: &quot;keep_dims&quot;\\n    value {\\n      b: false\\n    }\\n  }\\n}\\nnode {\\n  name: &quot;gradients/Shape&quot;\\n  op: &quot;Const&quot;\\n  attr {\\n    key: &quot;dtype&quot;\\n    value {\\n      type: DT_INT32\\n    }\\n  }\\n  attr {\\n    key: &quot;value&quot;\\n    value {\\n      tensor {\\n        dtype: DT_INT32\\n        tensor_shape {\\n          dim {\\n          }\\n        }\\n      }\\n    }\\n  }\\n}\\nnode {\\n  name: &quot;gradients/grad_ys_0&quot;\\n  op: &quot;Const&quot;\\n  attr {\\n    key: &quot;dtype&quot;\\n    value {\\n      type: DT_FLOAT\\n    }\\n  }\\n  attr {\\n    key: &quot;value&quot;\\n    value {\\n      tensor {\\n        dtype: DT_FLOAT\\n        tensor_shape {\\n        }\\n        float_val: 1.0\\n      }\\n    }\\n  }\\n}\\nnode {\\n  name: &quot;gradients/Fill&quot;\\n  op: &quot;Fill&quot;\\n  input: &quot;gradients/Shape&quot;\\n  input: &quot;gradients/grad_ys_0&quot;\\n  attr {\\n    key: &quot;T&quot;\\n    value {\\n      type: DT_FLOAT\\n    }\\n  }\\n  attr {\\n    key: &quot;index_type&quot;\\n    value {\\n      type: DT_INT32\\n    }\\n  }\\n}\\nnode {\\n  name: &quot;gradients/mse_grad/Reshape/shape&quot;\\n  op: &quot;Const&quot;\\n  attr {\\n    key: &quot;dtype&quot;\\n    value {\\n      type: DT_INT32\\n    }\\n  }\\n  attr {\\n    key: &quot;value&quot;\\n    value {\\n      tensor {\\n        dtype: DT_INT32\\n        tensor_shape {\\n          dim {\\n            size: 2\\n          }\\n        }\\n        tensor_content: &quot;\\\\001\\\\000\\\\000\\\\000\\\\001\\\\000\\\\000\\\\000&quot;\\n      }\\n    }\\n  }\\n}\\nnode {\\n  name: &quot;gradients/mse_grad/Reshape&quot;\\n  op: &quot;Reshape&quot;\\n  input: &quot;gradients/Fill&quot;\\n  input: &quot;gradients/mse_grad/Reshape/shape&quot;\\n  attr {\\n    key: &quot;T&quot;\\n    value {\\n      type: DT_FLOAT\\n    }\\n  }\\n  attr {\\n    key: &quot;Tshape&quot;\\n    value {\\n      type: DT_INT32\\n    }\\n  }\\n}\\nnode {\\n  name: &quot;gradients/mse_grad/Const&quot;\\n  op: &quot;Const&quot;\\n  attr {\\n    key: &quot;dtype&quot;\\n    value {\\n      type: DT_INT32\\n    }\\n  }\\n  attr {\\n    key: &quot;value&quot;\\n    value {\\n      tensor {\\n        dtype: DT_INT32\\n        tensor_shape {\\n          dim {\\n            size: 2\\n          }\\n        }\\n        tensor_content: &quot;\\\\240P\\\\000\\\\000\\\\001\\\\000\\\\000\\\\000&quot;\\n      }\\n    }\\n  }\\n}\\nnode {\\n  name: &quot;gradients/mse_grad/Tile&quot;\\n  op: &quot;Tile&quot;\\n  input: &quot;gradients/mse_grad/Reshape&quot;\\n  input: &quot;gradients/mse_grad/Const&quot;\\n  attr {\\n    key: &quot;T&quot;\\n    value {\\n      type: DT_FLOAT\\n    }\\n  }\\n  attr {\\n    key: &quot;Tmultiples&quot;\\n    value {\\n      type: DT_INT32\\n    }\\n  }\\n}\\nnode {\\n  name: &quot;gradients/mse_grad/Const_1&quot;\\n  op: &quot;Const&quot;\\n  attr {\\n    key: &quot;dtype&quot;\\n    value {\\n      type: DT_FLOAT\\n    }\\n  }\\n  attr {\\n    key: &quot;value&quot;\\n    value {\\n      tensor {\\n        dtype: DT_FLOAT\\n        tensor_shape {\\n        }\\n        float_val: 20640.0\\n      }\\n    }\\n  }\\n}\\nnode {\\n  name: &quot;gradients/mse_grad/truediv&quot;\\n  op: &quot;RealDiv&quot;\\n  input: &quot;gradients/mse_grad/Tile&quot;\\n  input: &quot;gradients/mse_grad/Const_1&quot;\\n  attr {\\n    key: &quot;T&quot;\\n    value {\\n      type: DT_FLOAT\\n    }\\n  }\\n}\\nnode {\\n  name: &quot;gradients/Square_grad/Const&quot;\\n  op: &quot;Const&quot;\\n  input: &quot;^gradients/mse_grad/truediv&quot;\\n  attr {\\n    key: &quot;dtype&quot;\\n    value {\\n      type: DT_FLOAT\\n    }\\n  }\\n  attr {\\n    key: &quot;value&quot;\\n    value {\\n      tensor {\\n        dtype: DT_FLOAT\\n        tensor_shape {\\n        }\\n        float_val: 2.0\\n      }\\n    }\\n  }\\n}\\nnode {\\n  name: &quot;gradients/Square_grad/Mul&quot;\\n  op: &quot;Mul&quot;\\n  input: &quot;sub&quot;\\n  input: &quot;gradients/Square_grad/Const&quot;\\n  attr {\\n    key: &quot;T&quot;\\n    value {\\n      type: DT_FLOAT\\n    }\\n  }\\n}\\nnode {\\n  name: &quot;gradients/Square_grad/Mul_1&quot;\\n  op: &quot;Mul&quot;\\n  input: &quot;gradients/mse_grad/truediv&quot;\\n  input: &quot;gradients/Square_grad/Mul&quot;\\n  attr {\\n    key: &quot;T&quot;\\n    value {\\n      type: DT_FLOAT\\n    }\\n  }\\n}\\nnode {\\n  name: &quot;gradients/sub_grad/Neg&quot;\\n  op: &quot;Neg&quot;\\n  input: &quot;gradients/Square_grad/Mul_1&quot;\\n  attr {\\n    key: &quot;T&quot;\\n    value {\\n      type: DT_FLOAT\\n    }\\n  }\\n}\\nnode {\\n  name: &quot;gradients/sub_grad/tuple/group_deps&quot;\\n  op: &quot;NoOp&quot;\\n  input: &quot;^gradients/Square_grad/Mul_1&quot;\\n  input: &quot;^gradients/sub_grad/Neg&quot;\\n}\\nnode {\\n  name: &quot;gradients/sub_grad/tuple/control_dependency&quot;\\n  op: &quot;Identity&quot;\\n  input: &quot;gradients/Square_grad/Mul_1&quot;\\n  input: &quot;^gradients/sub_grad/tuple/group_deps&quot;\\n  attr {\\n    key: &quot;T&quot;\\n    value {\\n      type: DT_FLOAT\\n    }\\n  }\\n  attr {\\n    key: &quot;_class&quot;\\n    value {\\n      list {\\n        s: &quot;loc:@gradients/Square_grad/Mul_1&quot;\\n      }\\n    }\\n  }\\n}\\nnode {\\n  name: &quot;gradients/sub_grad/tuple/control_dependency_1&quot;\\n  op: &quot;Identity&quot;\\n  input: &quot;gradients/sub_grad/Neg&quot;\\n  input: &quot;^gradients/sub_grad/tuple/group_deps&quot;\\n  attr {\\n    key: &quot;T&quot;\\n    value {\\n      type: DT_FLOAT\\n    }\\n  }\\n  attr {\\n    key: &quot;_class&quot;\\n    value {\\n      list {\\n        s: &quot;loc:@gradients/sub_grad/Neg&quot;\\n      }\\n    }\\n  }\\n}\\nnode {\\n  name: &quot;gradients/predictions_grad/MatMul&quot;\\n  op: &quot;MatMul&quot;\\n  input: &quot;gradients/sub_grad/tuple/control_dependency&quot;\\n  input: &quot;theta/read&quot;\\n  attr {\\n    key: &quot;T&quot;\\n    value {\\n      type: DT_FLOAT\\n    }\\n  }\\n  attr {\\n    key: &quot;transpose_a&quot;\\n    value {\\n      b: false\\n    }\\n  }\\n  attr {\\n    key: &quot;transpose_b&quot;\\n    value {\\n      b: true\\n    }\\n  }\\n}\\nnode {\\n  name: &quot;gradients/predictions_grad/MatMul_1&quot;\\n  op: &quot;MatMul&quot;\\n  input: &quot;X&quot;\\n  input: &quot;gradients/sub_grad/tuple/control_dependency&quot;\\n  attr {\\n    key: &quot;T&quot;\\n    value {\\n      type: DT_FLOAT\\n    }\\n  }\\n  attr {\\n    key: &quot;transpose_a&quot;\\n    value {\\n      b: true\\n    }\\n  }\\n  attr {\\n    key: &quot;transpose_b&quot;\\n    value {\\n      b: false\\n    }\\n  }\\n}\\nnode {\\n  name: &quot;gradients/predictions_grad/tuple/group_deps&quot;\\n  op: &quot;NoOp&quot;\\n  input: &quot;^gradients/predictions_grad/MatMul&quot;\\n  input: &quot;^gradients/predictions_grad/MatMul_1&quot;\\n}\\nnode {\\n  name: &quot;gradients/predictions_grad/tuple/control_dependency&quot;\\n  op: &quot;Identity&quot;\\n  input: &quot;gradients/predictions_grad/MatMul&quot;\\n  input: &quot;^gradients/predictions_grad/tuple/group_deps&quot;\\n  attr {\\n    key: &quot;T&quot;\\n    value {\\n      type: DT_FLOAT\\n    }\\n  }\\n  attr {\\n    key: &quot;_class&quot;\\n    value {\\n      list {\\n        s: &quot;loc:@gradients/predictions_grad/MatMul&quot;\\n      }\\n    }\\n  }\\n}\\nnode {\\n  name: &quot;gradients/predictions_grad/tuple/control_dependency_1&quot;\\n  op: &quot;Identity&quot;\\n  input: &quot;gradients/predictions_grad/MatMul_1&quot;\\n  input: &quot;^gradients/predictions_grad/tuple/group_deps&quot;\\n  attr {\\n    key: &quot;T&quot;\\n    value {\\n      type: DT_FLOAT\\n    }\\n  }\\n  attr {\\n    key: &quot;_class&quot;\\n    value {\\n      list {\\n        s: &quot;loc:@gradients/predictions_grad/MatMul_1&quot;\\n      }\\n    }\\n  }\\n}\\nnode {\\n  name: &quot;GradientDescent/learning_rate&quot;\\n  op: &quot;Const&quot;\\n  attr {\\n    key: &quot;dtype&quot;\\n    value {\\n      type: DT_FLOAT\\n    }\\n  }\\n  attr {\\n    key: &quot;value&quot;\\n    value {\\n      tensor {\\n        dtype: DT_FLOAT\\n        tensor_shape {\\n        }\\n        float_val: 0.009999999776482582\\n      }\\n    }\\n  }\\n}\\nnode {\\n  name: &quot;GradientDescent/update_theta/ApplyGradientDescent&quot;\\n  op: &quot;ApplyGradientDescent&quot;\\n  input: &quot;theta&quot;\\n  input: &quot;GradientDescent/learning_rate&quot;\\n  input: &quot;gradients/predictions_grad/tuple/control_dependency_1&quot;\\n  attr {\\n    key: &quot;T&quot;\\n    value {\\n      type: DT_FLOAT\\n    }\\n  }\\n  attr {\\n    key: &quot;_class&quot;\\n    value {\\n      list {\\n        s: &quot;loc:@theta&quot;\\n      }\\n    }\\n  }\\n  attr {\\n    key: &quot;use_locking&quot;\\n    value {\\n      b: false\\n    }\\n  }\\n}\\nnode {\\n  name: &quot;GradientDescent&quot;\\n  op: &quot;NoOp&quot;\\n  input: &quot;^GradientDescent/update_theta/ApplyGradientDescent&quot;\\n}\\nnode {\\n  name: &quot;init&quot;\\n  op: &quot;NoOp&quot;\\n  input: &quot;^theta/Assign&quot;\\n}\\nnode {\\n  name: &quot;save/Const&quot;\\n  op: &quot;Const&quot;\\n  attr {\\n    key: &quot;dtype&quot;\\n    value {\\n      type: DT_STRING\\n    }\\n  }\\n  attr {\\n    key: &quot;value&quot;\\n    value {\\n      tensor {\\n        dtype: DT_STRING\\n        tensor_shape {\\n        }\\n        string_val: &quot;model&quot;\\n      }\\n    }\\n  }\\n}\\nnode {\\n  name: &quot;save/SaveV2/tensor_names&quot;\\n  op: &quot;Const&quot;\\n  attr {\\n    key: &quot;dtype&quot;\\n    value {\\n      type: DT_STRING\\n    }\\n  }\\n  attr {\\n    key: &quot;value&quot;\\n    value {\\n      tensor {\\n        dtype: DT_STRING\\n        tensor_shape {\\n          dim {\\n            size: 1\\n          }\\n        }\\n        string_val: &quot;theta&quot;\\n      }\\n    }\\n  }\\n}\\nnode {\\n  name: &quot;save/SaveV2/shape_and_slices&quot;\\n  op: &quot;Const&quot;\\n  attr {\\n    key: &quot;dtype&quot;\\n    value {\\n      type: DT_STRING\\n    }\\n  }\\n  attr {\\n    key: &quot;value&quot;\\n    value {\\n      tensor {\\n        dtype: DT_STRING\\n        tensor_shape {\\n          dim {\\n            size: 1\\n          }\\n        }\\n        string_val: &quot;&quot;\\n      }\\n    }\\n  }\\n}\\nnode {\\n  name: &quot;save/SaveV2&quot;\\n  op: &quot;SaveV2&quot;\\n  input: &quot;save/Const&quot;\\n  input: &quot;save/SaveV2/tensor_names&quot;\\n  input: &quot;save/SaveV2/shape_and_slices&quot;\\n  input: &quot;theta&quot;\\n  attr {\\n    key: &quot;dtypes&quot;\\n    value {\\n      list {\\n        type: DT_FLOAT\\n      }\\n    }\\n  }\\n}\\nnode {\\n  name: &quot;save/control_dependency&quot;\\n  op: &quot;Identity&quot;\\n  input: &quot;save/Const&quot;\\n  input: &quot;^save/SaveV2&quot;\\n  attr {\\n    key: &quot;T&quot;\\n    value {\\n      type: DT_STRING\\n    }\\n  }\\n  attr {\\n    key: &quot;_class&quot;\\n    value {\\n      list {\\n        s: &quot;loc:@save/Const&quot;\\n      }\\n    }\\n  }\\n}\\nnode {\\n  name: &quot;save/RestoreV2/tensor_names&quot;\\n  op: &quot;Const&quot;\\n  device: &quot;/device:CPU:0&quot;\\n  attr {\\n    key: &quot;dtype&quot;\\n    value {\\n      type: DT_STRING\\n    }\\n  }\\n  attr {\\n    key: &quot;value&quot;\\n    value {\\n      tensor {\\n        dtype: DT_STRING\\n        tensor_shape {\\n          dim {\\n            size: 1\\n          }\\n        }\\n        string_val: &quot;theta&quot;\\n      }\\n    }\\n  }\\n}\\nnode {\\n  name: &quot;save/RestoreV2/shape_and_slices&quot;\\n  op: &quot;Const&quot;\\n  device: &quot;/device:CPU:0&quot;\\n  attr {\\n    key: &quot;dtype&quot;\\n    value {\\n      type: DT_STRING\\n    }\\n  }\\n  attr {\\n    key: &quot;value&quot;\\n    value {\\n      tensor {\\n        dtype: DT_STRING\\n        tensor_shape {\\n          dim {\\n            size: 1\\n          }\\n        }\\n        string_val: &quot;&quot;\\n      }\\n    }\\n  }\\n}\\nnode {\\n  name: &quot;save/RestoreV2&quot;\\n  op: &quot;RestoreV2&quot;\\n  input: &quot;save/Const&quot;\\n  input: &quot;save/RestoreV2/tensor_names&quot;\\n  input: &quot;save/RestoreV2/shape_and_slices&quot;\\n  device: &quot;/device:CPU:0&quot;\\n  attr {\\n    key: &quot;dtypes&quot;\\n    value {\\n      list {\\n        type: DT_FLOAT\\n      }\\n    }\\n  }\\n}\\nnode {\\n  name: &quot;save/Assign&quot;\\n  op: &quot;Assign&quot;\\n  input: &quot;theta&quot;\\n  input: &quot;save/RestoreV2&quot;\\n  attr {\\n    key: &quot;T&quot;\\n    value {\\n      type: DT_FLOAT\\n    }\\n  }\\n  attr {\\n    key: &quot;_class&quot;\\n    value {\\n      list {\\n        s: &quot;loc:@theta&quot;\\n      }\\n    }\\n  }\\n  attr {\\n    key: &quot;use_locking&quot;\\n    value {\\n      b: true\\n    }\\n  }\\n  attr {\\n    key: &quot;validate_shape&quot;\\n    value {\\n      b: true\\n    }\\n  }\\n}\\nnode {\\n  name: &quot;save/restore_all&quot;\\n  op: &quot;NoOp&quot;\\n  input: &quot;^save/Assign&quot;\\n}\\n';\n",
       "          }\n",
       "        </script>\n",
       "        <link rel=&quot;import&quot; href=&quot;https://tensorboard.appspot.com/tf-graph-basic.build.html&quot; onload=load()>\n",
       "        <div style=&quot;height:600px&quot;>\n",
       "          <tf-graph-basic id=&quot;graph0.3745401188473625&quot;></tf-graph-basic>\n",
       "        </div>\n",
       "    \"></iframe>\n",
       "    "
      ],
      "text/plain": [
       "<IPython.core.display.HTML object>"
      ]
     },
     "metadata": {},
     "output_type": "display_data"
    }
   ],
   "source": [
    "show_graph(tf.get_default_graph())"
   ]
  },
  {
   "cell_type": "markdown",
   "metadata": {},
   "source": [
    "## Using TensorBoard"
   ]
  },
  {
   "cell_type": "code",
   "execution_count": 59,
   "metadata": {},
   "outputs": [],
   "source": [
    "reset_graph()\n",
    "\n",
    "from datetime import datetime\n",
    "\n",
    "now = datetime.utcnow().strftime(\"%Y%m%d%H%M%S\")\n",
    "root_logdir = \"tf_logs\"\n",
    "logdir = \"{}/run-{}/\".format(root_logdir, now)"
   ]
  },
  {
   "cell_type": "code",
   "execution_count": 60,
   "metadata": {},
   "outputs": [],
   "source": [
    "n_epochs = 1000\n",
    "learning_rate = 0.01\n",
    "\n",
    "X = tf.placeholder(tf.float32, shape=(None, n + 1), name=\"X\")\n",
    "y = tf.placeholder(tf.float32, shape=(None, 1), name=\"y\")\n",
    "theta = tf.Variable(tf.random_uniform([n + 1, 1], -1.0, 1.0, seed=42), name=\"theta\")\n",
    "y_pred = tf.matmul(X, theta, name=\"predictions\")\n",
    "error = y_pred - y\n",
    "mse = tf.reduce_mean(tf.square(error), name=\"mse\")\n",
    "optimizer = tf.train.GradientDescentOptimizer(learning_rate=learning_rate)\n",
    "training_op = optimizer.minimize(mse)\n",
    "\n",
    "init = tf.global_variables_initializer()"
   ]
  },
  {
   "cell_type": "code",
   "execution_count": 61,
   "metadata": {},
   "outputs": [],
   "source": [
    "mse_summary = tf.summary.scalar('MSE', mse)\n",
    "file_writer = tf.summary.FileWriter(logdir, tf.get_default_graph())"
   ]
  },
  {
   "cell_type": "code",
   "execution_count": 62,
   "metadata": {},
   "outputs": [],
   "source": [
    "n_epochs = 10\n",
    "batch_size = 100\n",
    "n_batches = int(np.ceil(m / batch_size))"
   ]
  },
  {
   "cell_type": "code",
   "execution_count": 63,
   "metadata": {},
   "outputs": [],
   "source": [
    "with tf.Session() as sess:                                                        # not shown in the book\n",
    "    sess.run(init)                                                                # not shown\n",
    "\n",
    "    for epoch in range(n_epochs):                                                 # not shown\n",
    "        for batch_index in range(n_batches):\n",
    "            X_batch, y_batch = fetch_batch(epoch, batch_index, batch_size)\n",
    "            if batch_index % 10 == 0:\n",
    "                summary_str = mse_summary.eval(feed_dict={X: X_batch, y: y_batch})\n",
    "                step = epoch * n_batches + batch_index\n",
    "                file_writer.add_summary(summary_str, step)\n",
    "            sess.run(training_op, feed_dict={X: X_batch, y: y_batch})\n",
    "\n",
    "    best_theta = theta.eval()                                                     # not shown"
   ]
  },
  {
   "cell_type": "code",
   "execution_count": 64,
   "metadata": {},
   "outputs": [],
   "source": [
    "file_writer.close()"
   ]
  },
  {
   "cell_type": "code",
   "execution_count": 65,
   "metadata": {},
   "outputs": [
    {
     "data": {
      "text/plain": [
       "array([[ 2.0703337 ],\n",
       "       [ 0.8637145 ],\n",
       "       [ 0.12255151],\n",
       "       [-0.31211874],\n",
       "       [ 0.38510373],\n",
       "       [ 0.00434168],\n",
       "       [-0.01232954],\n",
       "       [-0.83376896],\n",
       "       [-0.8030471 ]], dtype=float32)"
      ]
     },
     "execution_count": 65,
     "metadata": {},
     "output_type": "execute_result"
    }
   ],
   "source": [
    "best_theta"
   ]
  },
  {
   "cell_type": "markdown",
   "metadata": {},
   "source": [
    "# Name scopes"
   ]
  },
  {
   "cell_type": "code",
   "execution_count": 66,
   "metadata": {},
   "outputs": [],
   "source": [
    "reset_graph()\n",
    "\n",
    "now = datetime.utcnow().strftime(\"%Y%m%d%H%M%S\")\n",
    "root_logdir = \"tf_logs\"\n",
    "logdir = \"{}/run-{}/\".format(root_logdir, now)\n",
    "\n",
    "n_epochs = 1000\n",
    "learning_rate = 0.01\n",
    "\n",
    "X = tf.placeholder(tf.float32, shape=(None, n + 1), name=\"X\")\n",
    "y = tf.placeholder(tf.float32, shape=(None, 1), name=\"y\")\n",
    "theta = tf.Variable(tf.random_uniform([n + 1, 1], -1.0, 1.0, seed=42), name=\"theta\")\n",
    "y_pred = tf.matmul(X, theta, name=\"predictions\")"
   ]
  },
  {
   "cell_type": "code",
   "execution_count": 67,
   "metadata": {},
   "outputs": [],
   "source": [
    "with tf.name_scope(\"loss\") as scope:\n",
    "    error = y_pred - y\n",
    "    mse = tf.reduce_mean(tf.square(error), name=\"mse\")"
   ]
  },
  {
   "cell_type": "code",
   "execution_count": 68,
   "metadata": {},
   "outputs": [],
   "source": [
    "optimizer = tf.train.GradientDescentOptimizer(learning_rate=learning_rate)\n",
    "training_op = optimizer.minimize(mse)\n",
    "\n",
    "init = tf.global_variables_initializer()\n",
    "\n",
    "mse_summary = tf.summary.scalar('MSE', mse)\n",
    "file_writer = tf.summary.FileWriter(logdir, tf.get_default_graph())"
   ]
  },
  {
   "cell_type": "code",
   "execution_count": 69,
   "metadata": {},
   "outputs": [
    {
     "name": "stdout",
     "output_type": "stream",
     "text": [
      "Best theta:\n",
      "[[ 2.0703337 ]\n",
      " [ 0.8637145 ]\n",
      " [ 0.12255151]\n",
      " [-0.31211874]\n",
      " [ 0.38510373]\n",
      " [ 0.00434168]\n",
      " [-0.01232954]\n",
      " [-0.83376896]\n",
      " [-0.8030471 ]]\n"
     ]
    }
   ],
   "source": [
    "n_epochs = 10\n",
    "batch_size = 100\n",
    "n_batches = int(np.ceil(m / batch_size))\n",
    "\n",
    "with tf.Session() as sess:\n",
    "    sess.run(init)\n",
    "\n",
    "    for epoch in range(n_epochs):\n",
    "        for batch_index in range(n_batches):\n",
    "            X_batch, y_batch = fetch_batch(epoch, batch_index, batch_size)\n",
    "            if batch_index % 10 == 0:\n",
    "                summary_str = mse_summary.eval(feed_dict={X: X_batch, y: y_batch})\n",
    "                step = epoch * n_batches + batch_index\n",
    "                file_writer.add_summary(summary_str, step)\n",
    "            sess.run(training_op, feed_dict={X: X_batch, y: y_batch})\n",
    "\n",
    "    best_theta = theta.eval()\n",
    "\n",
    "file_writer.flush()\n",
    "file_writer.close()\n",
    "print(\"Best theta:\")\n",
    "print(best_theta)"
   ]
  },
  {
   "cell_type": "code",
   "execution_count": 70,
   "metadata": {},
   "outputs": [
    {
     "name": "stdout",
     "output_type": "stream",
     "text": [
      "loss/sub\n"
     ]
    }
   ],
   "source": [
    "print(error.op.name)"
   ]
  },
  {
   "cell_type": "code",
   "execution_count": 71,
   "metadata": {},
   "outputs": [
    {
     "name": "stdout",
     "output_type": "stream",
     "text": [
      "loss/mse\n"
     ]
    }
   ],
   "source": [
    "print(mse.op.name)"
   ]
  },
  {
   "cell_type": "code",
   "execution_count": 72,
   "metadata": {},
   "outputs": [
    {
     "name": "stdout",
     "output_type": "stream",
     "text": [
      "a\n",
      "a_1\n",
      "param/a\n",
      "param_1/a\n"
     ]
    }
   ],
   "source": [
    "reset_graph()\n",
    "\n",
    "a1 = tf.Variable(0, name=\"a\")      # name == \"a\"\n",
    "a2 = tf.Variable(0, name=\"a\")      # name == \"a_1\"\n",
    "\n",
    "with tf.name_scope(\"param\"):       # name == \"param\"\n",
    "    a3 = tf.Variable(0, name=\"a\")  # name == \"param/a\"\n",
    "\n",
    "with tf.name_scope(\"param\"):       # name == \"param_1\"\n",
    "    a4 = tf.Variable(0, name=\"a\")  # name == \"param_1/a\"\n",
    "\n",
    "for node in (a1, a2, a3, a4):\n",
    "    print(node.op.name)"
   ]
  },
  {
   "cell_type": "markdown",
   "metadata": {},
   "source": [
    "# Modularity"
   ]
  },
  {
   "cell_type": "markdown",
   "metadata": {},
   "source": [
    "An ugly flat code:"
   ]
  },
  {
   "cell_type": "code",
   "execution_count": 73,
   "metadata": {},
   "outputs": [],
   "source": [
    "reset_graph()\n",
    "\n",
    "n_features = 3\n",
    "X = tf.placeholder(tf.float32, shape=(None, n_features), name=\"X\")\n",
    "\n",
    "w1 = tf.Variable(tf.random_normal((n_features, 1)), name=\"weights1\")\n",
    "w2 = tf.Variable(tf.random_normal((n_features, 1)), name=\"weights2\")\n",
    "b1 = tf.Variable(0.0, name=\"bias1\")\n",
    "b2 = tf.Variable(0.0, name=\"bias2\")\n",
    "\n",
    "z1 = tf.add(tf.matmul(X, w1), b1, name=\"z1\")\n",
    "z2 = tf.add(tf.matmul(X, w2), b2, name=\"z2\")\n",
    "\n",
    "relu1 = tf.maximum(z1, 0., name=\"relu1\")\n",
    "relu2 = tf.maximum(z1, 0., name=\"relu2\")  # Oops, cut&paste error! Did you spot it?\n",
    "\n",
    "output = tf.add(relu1, relu2, name=\"output\")"
   ]
  },
  {
   "cell_type": "markdown",
   "metadata": {},
   "source": [
    "Much better, using a function to build the ReLUs:"
   ]
  },
  {
   "cell_type": "code",
   "execution_count": 74,
   "metadata": {},
   "outputs": [],
   "source": [
    "reset_graph()\n",
    "\n",
    "def relu(X):\n",
    "    w_shape = (int(X.get_shape()[1]), 1)\n",
    "    w = tf.Variable(tf.random_normal(w_shape), name=\"weights\")\n",
    "    b = tf.Variable(0.0, name=\"bias\")\n",
    "    z = tf.add(tf.matmul(X, w), b, name=\"z\")\n",
    "    return tf.maximum(z, 0., name=\"relu\")\n",
    "\n",
    "n_features = 3\n",
    "X = tf.placeholder(tf.float32, shape=(None, n_features), name=\"X\")\n",
    "relus = [relu(X) for i in range(5)]\n",
    "output = tf.add_n(relus, name=\"output\")"
   ]
  },
  {
   "cell_type": "code",
   "execution_count": 75,
   "metadata": {},
   "outputs": [],
   "source": [
    "file_writer = tf.summary.FileWriter(\"logs/relu1\", tf.get_default_graph())"
   ]
  },
  {
   "cell_type": "markdown",
   "metadata": {},
   "source": [
    "Even better using name scopes:"
   ]
  },
  {
   "cell_type": "code",
   "execution_count": 76,
   "metadata": {},
   "outputs": [],
   "source": [
    "reset_graph()\n",
    "\n",
    "def relu(X):\n",
    "    with tf.name_scope(\"relu\"):\n",
    "        w_shape = (int(X.get_shape()[1]), 1)                          # not shown in the book\n",
    "        w = tf.Variable(tf.random_normal(w_shape), name=\"weights\")    # not shown\n",
    "        b = tf.Variable(0.0, name=\"bias\")                             # not shown\n",
    "        z = tf.add(tf.matmul(X, w), b, name=\"z\")                      # not shown\n",
    "        return tf.maximum(z, 0., name=\"max\")                          # not shown"
   ]
  },
  {
   "cell_type": "code",
   "execution_count": 77,
   "metadata": {
    "collapsed": true
   },
   "outputs": [],
   "source": [
    "n_features = 3\n",
    "X = tf.placeholder(tf.float32, shape=(None, n_features), name=\"X\")\n",
    "relus = [relu(X) for i in range(5)]\n",
    "output = tf.add_n(relus, name=\"output\")\n",
    "\n",
    "file_writer = tf.summary.FileWriter(\"logs/relu2\", tf.get_default_graph())\n",
    "file_writer.close()"
   ]
  },
  {
   "cell_type": "markdown",
   "metadata": {},
   "source": [
    "## Sharing Variables"
   ]
  },
  {
   "cell_type": "markdown",
   "metadata": {},
   "source": [
    "Sharing a `threshold` variable the classic way, by defining it outside of the `relu()` function then passing it as a parameter:"
   ]
  },
  {
   "cell_type": "code",
   "execution_count": 78,
   "metadata": {},
   "outputs": [],
   "source": [
    "reset_graph()\n",
    "\n",
    "def relu(X, threshold):\n",
    "    with tf.name_scope(\"relu\"):\n",
    "        w_shape = (int(X.get_shape()[1]), 1)                        # not shown in the book\n",
    "        w = tf.Variable(tf.random_normal(w_shape), name=\"weights\")  # not shown\n",
    "        b = tf.Variable(0.0, name=\"bias\")                           # not shown\n",
    "        z = tf.add(tf.matmul(X, w), b, name=\"z\")                    # not shown\n",
    "        return tf.maximum(z, threshold, name=\"max\")\n",
    "\n",
    "threshold = tf.Variable(0.0, name=\"threshold\")\n",
    "X = tf.placeholder(tf.float32, shape=(None, n_features), name=\"X\")\n",
    "relus = [relu(X, threshold) for i in range(5)]\n",
    "output = tf.add_n(relus, name=\"output\")"
   ]
  },
  {
   "cell_type": "code",
   "execution_count": 79,
   "metadata": {},
   "outputs": [],
   "source": [
    "reset_graph()\n",
    "\n",
    "def relu(X):\n",
    "    with tf.name_scope(\"relu\"):\n",
    "        if not hasattr(relu, \"threshold\"):\n",
    "            relu.threshold = tf.Variable(0.0, name=\"threshold\")\n",
    "        w_shape = int(X.get_shape()[1]), 1                          # not shown in the book\n",
    "        w = tf.Variable(tf.random_normal(w_shape), name=\"weights\")  # not shown\n",
    "        b = tf.Variable(0.0, name=\"bias\")                           # not shown\n",
    "        z = tf.add(tf.matmul(X, w), b, name=\"z\")                    # not shown\n",
    "        return tf.maximum(z, relu.threshold, name=\"max\")"
   ]
  },
  {
   "cell_type": "code",
   "execution_count": 80,
   "metadata": {
    "collapsed": true
   },
   "outputs": [],
   "source": [
    "X = tf.placeholder(tf.float32, shape=(None, n_features), name=\"X\")\n",
    "relus = [relu(X) for i in range(5)]\n",
    "output = tf.add_n(relus, name=\"output\")"
   ]
  },
  {
   "cell_type": "code",
   "execution_count": 81,
   "metadata": {
    "collapsed": true
   },
   "outputs": [],
   "source": [
    "reset_graph()\n",
    "\n",
    "with tf.variable_scope(\"relu\"):\n",
    "    threshold = tf.get_variable(\"threshold\", shape=(),\n",
    "                                initializer=tf.constant_initializer(0.0))"
   ]
  },
  {
   "cell_type": "code",
   "execution_count": 82,
   "metadata": {
    "collapsed": true
   },
   "outputs": [],
   "source": [
    "with tf.variable_scope(\"relu\", reuse=True):\n",
    "    threshold = tf.get_variable(\"threshold\")"
   ]
  },
  {
   "cell_type": "code",
   "execution_count": 83,
   "metadata": {
    "collapsed": true
   },
   "outputs": [],
   "source": [
    "with tf.variable_scope(\"relu\") as scope:\n",
    "    scope.reuse_variables()\n",
    "    threshold = tf.get_variable(\"threshold\")"
   ]
  },
  {
   "cell_type": "code",
   "execution_count": 84,
   "metadata": {},
   "outputs": [],
   "source": [
    "reset_graph()\n",
    "\n",
    "def relu(X):\n",
    "    with tf.variable_scope(\"relu\", reuse=True):\n",
    "        threshold = tf.get_variable(\"threshold\")\n",
    "        w_shape = int(X.get_shape()[1]), 1                          # not shown\n",
    "        w = tf.Variable(tf.random_normal(w_shape), name=\"weights\")  # not shown\n",
    "        b = tf.Variable(0.0, name=\"bias\")                           # not shown\n",
    "        z = tf.add(tf.matmul(X, w), b, name=\"z\")                    # not shown\n",
    "        return tf.maximum(z, threshold, name=\"max\")\n",
    "\n",
    "X = tf.placeholder(tf.float32, shape=(None, n_features), name=\"X\")\n",
    "with tf.variable_scope(\"relu\"):\n",
    "    threshold = tf.get_variable(\"threshold\", shape=(),\n",
    "                                initializer=tf.constant_initializer(0.0))\n",
    "relus = [relu(X) for relu_index in range(5)]\n",
    "output = tf.add_n(relus, name=\"output\")"
   ]
  },
  {
   "cell_type": "code",
   "execution_count": 85,
   "metadata": {},
   "outputs": [],
   "source": [
    "file_writer = tf.summary.FileWriter(\"logs/relu6\", tf.get_default_graph())\n",
    "file_writer.close()"
   ]
  },
  {
   "cell_type": "code",
   "execution_count": 86,
   "metadata": {},
   "outputs": [],
   "source": [
    "reset_graph()\n",
    "\n",
    "def relu(X):\n",
    "    with tf.variable_scope(\"relu\"):\n",
    "        threshold = tf.get_variable(\"threshold\", shape=(), initializer=tf.constant_initializer(0.0))\n",
    "        w_shape = (int(X.get_shape()[1]), 1)\n",
    "        w = tf.Variable(tf.random_normal(w_shape), name=\"weights\")\n",
    "        b = tf.Variable(0.0, name=\"bias\")\n",
    "        z = tf.add(tf.matmul(X, w), b, name=\"z\")\n",
    "        return tf.maximum(z, threshold, name=\"max\")\n",
    "\n",
    "X = tf.placeholder(tf.float32, shape=(None, n_features), name=\"X\")\n",
    "with tf.variable_scope(\"\", default_name=\"\") as scope:\n",
    "    first_relu = relu(X)     # create the shared variable\n",
    "    scope.reuse_variables()  # then reuse it\n",
    "    relus = [first_relu] + [relu(X) for i in range(4)]\n",
    "output = tf.add_n(relus, name=\"output\")\n",
    "\n",
    "file_writer = tf.summary.FileWriter(\"logs/relu8\", tf.get_default_graph())\n",
    "file_writer.close()"
   ]
  },
  {
   "cell_type": "code",
   "execution_count": 87,
   "metadata": {},
   "outputs": [],
   "source": [
    "reset_graph()\n",
    "\n",
    "def relu(X):\n",
    "    threshold = tf.get_variable(\"threshold\", shape=(),\n",
    "                                initializer=tf.constant_initializer(0.0))\n",
    "    w_shape = (int(X.get_shape()[1]), 1)                        # not shown in the book\n",
    "    w = tf.Variable(tf.random_normal(w_shape), name=\"weights\")  # not shown\n",
    "    b = tf.Variable(0.0, name=\"bias\")                           # not shown\n",
    "    z = tf.add(tf.matmul(X, w), b, name=\"z\")                    # not shown\n",
    "    return tf.maximum(z, threshold, name=\"max\")\n",
    "\n",
    "X = tf.placeholder(tf.float32, shape=(None, n_features), name=\"X\")\n",
    "relus = []\n",
    "for relu_index in range(5):\n",
    "    with tf.variable_scope(\"relu\", reuse=(relu_index >= 1)) as scope:\n",
    "        relus.append(relu(X))\n",
    "output = tf.add_n(relus, name=\"output\")"
   ]
  },
  {
   "cell_type": "code",
   "execution_count": 88,
   "metadata": {
    "collapsed": true
   },
   "outputs": [],
   "source": [
    "file_writer = tf.summary.FileWriter(\"logs/relu9\", tf.get_default_graph())\n",
    "file_writer.close()"
   ]
  },
  {
   "cell_type": "markdown",
   "metadata": {},
   "source": [
    "# Extra material"
   ]
  },
  {
   "cell_type": "code",
   "execution_count": 89,
   "metadata": {},
   "outputs": [
    {
     "name": "stdout",
     "output_type": "stream",
     "text": [
      "x0: my_scope/x\n",
      "x1: my_scope/x_1\n",
      "x2: my_scope/x_2\n",
      "x3: my_scope/x\n",
      "x4: my_scope_1/x\n",
      "x5: my_scope/x\n",
      "True\n"
     ]
    }
   ],
   "source": [
    "reset_graph()\n",
    "\n",
    "with tf.variable_scope(\"my_scope\"):\n",
    "    x0 = tf.get_variable(\"x\", shape=(), initializer=tf.constant_initializer(0.))\n",
    "    x1 = tf.Variable(0., name=\"x\")\n",
    "    x2 = tf.Variable(0., name=\"x\")\n",
    "\n",
    "with tf.variable_scope(\"my_scope\", reuse=True):\n",
    "    x3 = tf.get_variable(\"x\")\n",
    "    x4 = tf.Variable(0., name=\"x\")\n",
    "\n",
    "with tf.variable_scope(\"\", default_name=\"\", reuse=True):\n",
    "    x5 = tf.get_variable(\"my_scope/x\")\n",
    "\n",
    "print(\"x0:\", x0.op.name)\n",
    "print(\"x1:\", x1.op.name)\n",
    "print(\"x2:\", x2.op.name)\n",
    "print(\"x3:\", x3.op.name)\n",
    "print(\"x4:\", x4.op.name)\n",
    "print(\"x5:\", x5.op.name)\n",
    "print(x0 is x3 and x3 is x5)"
   ]
  },
  {
   "cell_type": "markdown",
   "metadata": {},
   "source": [
    "The first `variable_scope()` block first creates the shared variable `x0`, named `my_scope/x`. For all operations other than shared variables (including non-shared variables), the variable scope acts like a regular name scope, which is why the two variables `x1` and `x2` have a name with a prefix `my_scope/`. Note however that TensorFlow makes their names unique by adding an index: `my_scope/x_1` and `my_scope/x_2`.\n",
    "\n",
    "The second `variable_scope()` block reuses the shared variables in scope `my_scope`, which is why `x0 is x3`. Once again, for all operations other than shared variables it acts as a named scope, and since it's a separate block from the first one, the name of the scope is made unique by TensorFlow (`my_scope_1`) and thus the variable `x4` is named `my_scope_1/x`.\n",
    "\n",
    "The third block shows another way to get a handle on the shared variable `my_scope/x` by creating a `variable_scope()` at the root scope (whose name is an empty string), then calling `get_variable()` with the full name of the shared variable (i.e. `\"my_scope/x\"`)."
   ]
  },
  {
   "cell_type": "markdown",
   "metadata": {},
   "source": [
    "## Strings"
   ]
  },
  {
   "cell_type": "code",
   "execution_count": 90,
   "metadata": {},
   "outputs": [
    {
     "name": "stdout",
     "output_type": "stream",
     "text": [
      "[b'Do' b'you' b'want' b'some' b'caf\\xc3\\xa9?']\n"
     ]
    }
   ],
   "source": [
    "reset_graph()\n",
    "\n",
    "text = np.array(\"Do you want some café?\".split())\n",
    "text_tensor = tf.constant(text)\n",
    "\n",
    "with tf.Session() as sess:\n",
    "    print(text_tensor.eval())"
   ]
  },
  {
   "cell_type": "markdown",
   "metadata": {},
   "source": [
    "## Autodiff"
   ]
  },
  {
   "cell_type": "markdown",
   "metadata": {},
   "source": [
    "Note: the autodiff content was moved to the [extra_autodiff.ipynb](extra_autodiff.ipynb) notebook."
   ]
  },
  {
   "cell_type": "markdown",
   "metadata": {},
   "source": [
    "# Exercise solutions"
   ]
  },
  {
   "cell_type": "markdown",
   "metadata": {},
   "source": [
    "## 1. to 11."
   ]
  },
  {
   "cell_type": "markdown",
   "metadata": {
    "collapsed": true
   },
   "source": [
    "See appendix A."
   ]
  },
  {
   "cell_type": "markdown",
   "metadata": {},
   "source": [
    "## 12. Logistic Regression with Mini-Batch Gradient Descent using TensorFlow"
   ]
  },
  {
   "cell_type": "markdown",
   "metadata": {},
   "source": [
    "First, let's create the moons dataset using Scikit-Learn's `make_moons()` function:"
   ]
  },
  {
   "cell_type": "code",
<<<<<<< HEAD
   "execution_count": 60,
=======
   "execution_count": 76,
>>>>>>> 5d2005123c9e56f3d9b1fb11514c6a868cbaad89
   "metadata": {},
   "outputs": [],
   "source": [
    "from sklearn.datasets import make_moons\n",
    "\n",
    "m = 1000\n",
    "X_moons, y_moons = make_moons(m, noise=0.1, random_state=42)"
   ]
  },
  {
   "cell_type": "markdown",
   "metadata": {},
   "source": [
    "Let's take a peek at the dataset:"
   ]
  },
  {
   "cell_type": "code",
<<<<<<< HEAD
   "execution_count": 61,
   "metadata": {},
   "outputs": [
    {
     "data": {
      "image/png": "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\n",
      "text/plain": [
       "<Figure size 432x288 with 1 Axes>"
      ]
     },
     "metadata": {
      "needs_background": "light"
     },
     "output_type": "display_data"
    }
   ],
   "source": [
    "plt.plot(X_moons[y_moons == 1, 0], X_moons[y_moons == 1, 1], 'go', label=\"Positive\")\n",
    "plt.plot(X_moons[y_moons == 0, 0], X_moons[y_moons == 0, 1], 'r^', label=\"Negative\")\n",
    "plt.legend()\n",
    "plt.show()"
   ]
  },
  {
   "cell_type": "code",
   "execution_count": 92,
=======
   "execution_count": 77,
>>>>>>> 5d2005123c9e56f3d9b1fb11514c6a868cbaad89
   "metadata": {},
   "outputs": [
    {
     "data": {
      "image/png": "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\n",
      "text/plain": [
       "<matplotlib.figure.Figure at 0x1e54b135a20>"
      ]
     },
     "metadata": {},
     "output_type": "display_data"
    }
   ],
   "source": [
    "plt.plot(X_moons[y_moons == 1, 0], X_moons[y_moons == 1, 1], 'go', label=\"Positive\")\n",
    "plt.plot(X_moons[y_moons == 0, 0], X_moons[y_moons == 0, 1], 'r^', label=\"Negative\")\n",
    "plt.legend()\n",
    "plt.show()"
   ]
  },
  {
   "cell_type": "markdown",
   "metadata": {},
   "source": [
    "We must not forget to add an extra bias feature ($x_0 = 1$) to every instance. For this, we just need to add a column full of 1s on the left of the input matrix $\\mathbf{X}$:"
   ]
  },
  {
   "cell_type": "code",
   "execution_count": 78,
   "metadata": {},
   "outputs": [],
   "source": [
    "X_moons_with_bias = np.c_[np.ones((m, 1)), X_moons]"
   ]
  },
  {
   "cell_type": "markdown",
   "metadata": {},
   "source": [
    "Let's check:"
   ]
  },
  {
   "cell_type": "code",
   "execution_count": 82,
   "metadata": {},
   "outputs": [
    {
     "data": {
      "text/plain": [
       "array([[ 1.        , -0.05146968,  0.44419863],\n",
       "       [ 1.        ,  1.03201691, -0.41974116],\n",
       "       [ 1.        ,  0.86789186, -0.25482711],\n",
       "       [ 1.        ,  0.288851  , -0.44866862],\n",
       "       [ 1.        , -0.83343911,  0.53505665]])"
      ]
     },
     "execution_count": 82,
     "metadata": {},
     "output_type": "execute_result"
    }
   ],
   "source": [
    "X_moons_with_bias[:5]"
   ]
  },
  {
   "cell_type": "markdown",
   "metadata": {},
   "source": [
    "Looks good. Now let's reshape `y_train` to make it a column vector (i.e. a 2D array with a single column):"
   ]
  },
  {
   "cell_type": "code",
   "execution_count": 83,
   "metadata": {},
   "outputs": [],
   "source": [
    "y_moons_column_vector = y_moons.reshape(-1, 1)"
   ]
  },
  {
   "cell_type": "markdown",
   "metadata": {},
   "source": [
    "Now let's split the data into a training set and a test set:"
   ]
  },
  {
   "cell_type": "code",
   "execution_count": 84,
   "metadata": {},
   "outputs": [],
   "source": [
    "test_ratio = 0.2\n",
    "test_size = int(m * test_ratio)\n",
    "X_train = X_moons_with_bias[:-test_size]\n",
    "X_test = X_moons_with_bias[-test_size:]\n",
    "y_train = y_moons_column_vector[:-test_size]\n",
    "y_test = y_moons_column_vector[-test_size:]"
   ]
  },
  {
   "cell_type": "markdown",
   "metadata": {},
   "source": [
    "Ok, now let's create a small function to generate training batches. In this implementation we will just pick random instances from the training set for each batch. This means that a single batch may contain the same instance multiple times, and also a single epoch may not cover all the training instances (in fact it will generally cover only about two thirds of the instances). However, in practice this is not an issue and it simplifies the code:"
   ]
  },
  {
   "cell_type": "code",
   "execution_count": 85,
   "metadata": {},
   "outputs": [],
   "source": [
    "def random_batch(X_train, y_train, batch_size):\n",
    "    rnd_indices = np.random.randint(0, len(X_train), batch_size)\n",
    "    X_batch = X_train[rnd_indices]\n",
    "    y_batch = y_train[rnd_indices]\n",
    "    return X_batch, y_batch"
   ]
  },
  {
   "cell_type": "markdown",
   "metadata": {},
   "source": [
    "Let's look at a small batch:"
   ]
  },
  {
   "cell_type": "code",
   "execution_count": 86,
   "metadata": {},
   "outputs": [
    {
     "data": {
      "text/plain": [
       "array([[ 1.        ,  1.93189866,  0.13158788],\n",
       "       [ 1.        ,  1.07172763,  0.13482039],\n",
       "       [ 1.        , -1.01148674, -0.04686381],\n",
       "       [ 1.        ,  0.02201868,  0.19079139],\n",
       "       [ 1.        , -0.98941204,  0.02473116]])"
      ]
     },
     "execution_count": 86,
     "metadata": {},
     "output_type": "execute_result"
    }
   ],
   "source": [
    "X_batch, y_batch = random_batch(X_train, y_train, 5)\n",
    "X_batch"
   ]
  },
  {
   "cell_type": "code",
   "execution_count": 87,
   "metadata": {},
   "outputs": [
    {
     "data": {
      "text/plain": [
       "array([[1],\n",
       "       [0],\n",
       "       [0],\n",
       "       [1],\n",
       "       [0]], dtype=int64)"
      ]
     },
     "execution_count": 87,
     "metadata": {},
     "output_type": "execute_result"
    }
   ],
   "source": [
    "y_batch"
   ]
  },
  {
   "cell_type": "markdown",
   "metadata": {},
   "source": [
    "Great! Now that the data is ready to be fed to the model, we need to build that model. Let's start with a simple implementation, then we will add all the bells and whistles."
   ]
  },
  {
   "cell_type": "markdown",
   "metadata": {},
   "source": [
    "First let's reset the default graph."
   ]
  },
  {
   "cell_type": "code",
   "execution_count": 88,
   "metadata": {},
   "outputs": [],
   "source": [
    "reset_graph()"
   ]
  },
  {
   "cell_type": "markdown",
   "metadata": {},
   "source": [
    "The _moons_ dataset has two input features, since each instance is a point on a plane (i.e., 2-Dimensional):"
   ]
  },
  {
   "cell_type": "code",
   "execution_count": 89,
   "metadata": {},
   "outputs": [],
   "source": [
    "n_inputs = 2"
   ]
  },
  {
   "cell_type": "markdown",
   "metadata": {},
   "source": [
    "Now let's build the Logistic Regression model. As we saw in chapter 4, this model first computes a weighted sum of the inputs (just like the Linear Regression model), and then it applies the sigmoid function to the result, which gives us the estimated probability for the positive class:\n",
    "\n",
    "$\\hat{p} = h_\\boldsymbol{\\theta}(\\mathbf{x}) = \\sigma(\\boldsymbol{\\theta}^T \\mathbf{x})$\n"
   ]
  },
  {
   "cell_type": "markdown",
   "metadata": {},
   "source": [
    "Recall that $\\boldsymbol{\\theta}$ is the parameter vector, containing the bias term $\\theta_0$ and the weights $\\theta_1, \\theta_2, \\dots, \\theta_n$. The input vector $\\mathbf{x}$ contains a constant term $x_0 = 1$, as well as all the input features $x_1, x_2, \\dots, x_n$.\n",
    "\n",
    "Since we want to be able to make predictions for multiple instances at a time, we will use an input matrix $\\mathbf{X}$ rather than a single input vector. The $i^{th}$ row will contain the transpose of the $i^{th}$ input vector $(\\mathbf{x}^{(i)})^T$. It is then possible to estimate the probability that each instance belongs to the positive class using the following equation:\n",
    "\n",
    "$ \\hat{\\mathbf{p}} = \\sigma(\\mathbf{X} \\boldsymbol{\\theta})$\n",
    "\n",
    "That's all we need to build the model:"
   ]
  },
  {
   "cell_type": "code",
   "execution_count": 90,
   "metadata": {},
   "outputs": [],
   "source": [
    "X = tf.placeholder(tf.float32, shape=(None, n_inputs + 1), name=\"X\")\n",
    "y = tf.placeholder(tf.float32, shape=(None, 1), name=\"y\")\n",
    "theta = tf.Variable(tf.random_uniform([n_inputs + 1, 1], -1.0, 1.0, seed=42), name=\"theta\")\n",
    "logits = tf.matmul(X, theta, name=\"logits\")\n",
    "y_proba = 1 / (1 + tf.exp(-logits))"
   ]
  },
  {
   "cell_type": "markdown",
   "metadata": {},
   "source": [
    "In fact, TensorFlow has a nice function `tf.sigmoid()` that we can use to simplify the last line of the previous code:"
   ]
  },
  {
   "cell_type": "code",
   "execution_count": 91,
   "metadata": {},
   "outputs": [],
   "source": [
    "y_proba = tf.sigmoid(logits)"
   ]
  },
  {
   "cell_type": "markdown",
   "metadata": {},
   "source": [
    "As we saw in chapter 4, the log loss is a good cost function to use for Logistic Regression:\n",
    "\n",
    "$J(\\boldsymbol{\\theta}) = -\\dfrac{1}{m} \\sum\\limits_{i=1}^{m}{\\left[ y^{(i)} \\log\\left(\\hat{p}^{(i)}\\right) + (1 - y^{(i)}) \\log\\left(1 - \\hat{p}^{(i)}\\right)\\right]}$\n",
    "\n",
    "One option is to implement it ourselves:"
   ]
  },
  {
   "cell_type": "code",
   "execution_count": 92,
   "metadata": {},
   "outputs": [],
   "source": [
    "epsilon = 1e-7  # to avoid an overflow when computing the log\n",
    "loss = -tf.reduce_mean(y * tf.log(y_proba + epsilon) + (1 - y) * tf.log(1 - y_proba + epsilon))"
   ]
  },
  {
   "cell_type": "markdown",
   "metadata": {},
   "source": [
    "But we might as well use TensorFlow's `tf.losses.log_loss()` function:"
   ]
  },
  {
   "cell_type": "code",
   "execution_count": 93,
   "metadata": {},
   "outputs": [],
   "source": [
    "loss = tf.losses.log_loss(y, y_proba)  # uses epsilon = 1e-7 by default"
   ]
  },
  {
   "cell_type": "markdown",
   "metadata": {},
   "source": [
    "The rest is pretty standard: let's create the optimizer and tell it to minimize the cost function:"
   ]
  },
  {
   "cell_type": "code",
   "execution_count": 94,
   "metadata": {},
   "outputs": [],
   "source": [
    "learning_rate = 0.01\n",
    "optimizer = tf.train.GradientDescentOptimizer(learning_rate=learning_rate)\n",
    "training_op = optimizer.minimize(loss)"
   ]
  },
  {
   "cell_type": "markdown",
   "metadata": {},
   "source": [
    "All we need now (in this minimal version) is the variable initializer:"
   ]
  },
  {
   "cell_type": "code",
   "execution_count": 95,
   "metadata": {},
   "outputs": [],
   "source": [
    "init = tf.global_variables_initializer()"
   ]
  },
  {
   "cell_type": "markdown",
   "metadata": {},
   "source": [
    "And we are ready to train the model and use it for predictions!"
   ]
  },
  {
   "cell_type": "markdown",
   "metadata": {},
   "source": [
    "There's really nothing special about this code, it's virtually the same as the one we used earlier for Linear Regression:"
   ]
  },
  {
   "cell_type": "code",
   "execution_count": 96,
   "metadata": {},
   "outputs": [
    {
     "name": "stdout",
     "output_type": "stream",
     "text": [
      "Epoch: 0 \tLoss: 0.79260236\n",
      "Epoch: 100 \tLoss: 0.3434635\n",
      "Epoch: 200 \tLoss: 0.30754045\n",
      "Epoch: 300 \tLoss: 0.29288894\n",
      "Epoch: 400 \tLoss: 0.28533572\n",
      "Epoch: 500 \tLoss: 0.28047806\n",
      "Epoch: 600 \tLoss: 0.27808294\n",
      "Epoch: 700 \tLoss: 0.2761544\n",
      "Epoch: 800 \tLoss: 0.27551997\n",
      "Epoch: 900 \tLoss: 0.27491233\n"
     ]
    }
   ],
   "source": [
    "n_epochs = 1000\n",
    "batch_size = 50\n",
    "n_batches = int(np.ceil(m / batch_size))\n",
    "\n",
    "with tf.Session() as sess:\n",
    "    sess.run(init)\n",
    "\n",
    "    for epoch in range(n_epochs):\n",
    "        for batch_index in range(n_batches):\n",
    "            X_batch, y_batch = random_batch(X_train, y_train, batch_size)\n",
    "            sess.run(training_op, feed_dict={X: X_batch, y: y_batch})\n",
    "        loss_val = loss.eval({X: X_test, y: y_test})\n",
    "        if epoch % 100 == 0:\n",
    "            print(\"Epoch:\", epoch, \"\\tLoss:\", loss_val)\n",
    "\n",
    "    y_proba_val = y_proba.eval(feed_dict={X: X_test, y: y_test})"
   ]
  },
  {
   "cell_type": "markdown",
   "metadata": {},
   "source": [
    "Note: we don't use the epoch number when generating batches, so we could just have a single `for` loop rather than 2 nested `for` loops, but it's convenient to think of training time in terms of number of epochs (i.e., roughly the number of times the algorithm went through the training set)."
   ]
  },
  {
   "cell_type": "markdown",
   "metadata": {},
   "source": [
    "For each instance in the test set, `y_proba_val` contains the estimated probability that it belongs to the positive class, according to the model. For example, here are the first 5 estimated probabilities:"
   ]
  },
  {
   "cell_type": "code",
   "execution_count": 97,
   "metadata": {},
   "outputs": [
    {
     "data": {
      "text/plain": [
       "array([[0.54895616],\n",
       "       [0.70724374],\n",
       "       [0.51900256],\n",
       "       [0.9911136 ],\n",
       "       [0.5085905 ]], dtype=float32)"
      ]
     },
     "execution_count": 97,
     "metadata": {},
     "output_type": "execute_result"
    }
   ],
   "source": [
    "y_proba_val[:5]"
   ]
  },
  {
   "cell_type": "markdown",
   "metadata": {},
   "source": [
    "To classify each instance, we can go for maximum likelihood: classify as positive any instance whose estimated probability is greater or equal to 0.5:"
   ]
  },
  {
   "cell_type": "code",
   "execution_count": 98,
   "metadata": {},
   "outputs": [
    {
     "data": {
      "text/plain": [
       "array([[ True],\n",
       "       [ True],\n",
       "       [ True],\n",
       "       [ True],\n",
       "       [ True]])"
      ]
     },
     "execution_count": 98,
     "metadata": {},
     "output_type": "execute_result"
    }
   ],
   "source": [
    "y_pred = (y_proba_val >= 0.5)\n",
    "y_pred[:5]"
   ]
  },
  {
   "cell_type": "markdown",
   "metadata": {},
   "source": [
    "Depending on the use case, you may want to choose a different threshold than 0.5: make it higher if you want high precision (but lower recall), and make it lower if you want high recall (but lower precision). See chapter 3 for more details."
   ]
  },
  {
   "cell_type": "markdown",
   "metadata": {},
   "source": [
    "Let's compute the model's precision and recall:"
   ]
  },
  {
   "cell_type": "code",
   "execution_count": 99,
   "metadata": {},
   "outputs": [
    {
     "data": {
      "text/plain": [
       "0.8627450980392157"
      ]
     },
     "execution_count": 99,
     "metadata": {},
     "output_type": "execute_result"
    }
   ],
   "source": [
    "from sklearn.metrics import precision_score, recall_score\n",
    "\n",
    "precision_score(y_test, y_pred)"
   ]
  },
  {
   "cell_type": "code",
   "execution_count": 100,
   "metadata": {},
   "outputs": [
    {
     "data": {
      "text/plain": [
       "0.8888888888888888"
      ]
     },
     "execution_count": 100,
     "metadata": {},
     "output_type": "execute_result"
    }
   ],
   "source": [
    "recall_score(y_test, y_pred)"
   ]
  },
  {
   "cell_type": "markdown",
   "metadata": {},
   "source": [
    "Let's plot these predictions to see what they look like:"
   ]
  },
  {
   "cell_type": "code",
   "execution_count": 101,
   "metadata": {},
   "outputs": [
    {
     "data": {
      "image/png": "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\n",
      "text/plain": [
       "<matplotlib.figure.Figure at 0x1e54b455b00>"
      ]
     },
     "metadata": {},
     "output_type": "display_data"
    }
   ],
   "source": [
    "y_pred_idx = y_pred.reshape(-1) # a 1D array rather than a column vector\n",
    "plt.plot(X_test[y_pred_idx, 1], X_test[y_pred_idx, 2], 'go', label=\"Positive\")\n",
    "plt.plot(X_test[~y_pred_idx, 1], X_test[~y_pred_idx, 2], 'r^', label=\"Negative\")\n",
    "plt.legend()\n",
    "plt.show()"
   ]
  },
  {
   "cell_type": "markdown",
   "metadata": {},
   "source": [
    "Well, that looks pretty bad, doesn't it? But let's not forget that the Logistic Regression model has a linear decision boundary, so this is actually close to the best we can do with this model (unless we add more features, as we will show in a second)."
   ]
  },
  {
   "cell_type": "markdown",
   "metadata": {},
   "source": [
    "Now let's start over, but this time we will add all the bells and whistles, as listed in the exercise:\n",
    "* Define the graph within a `logistic_regression()` function that can be reused easily.\n",
    "* Save checkpoints using a `Saver` at regular intervals during training, and save the final model at the end of training.\n",
    "* Restore the last checkpoint upon startup if training was interrupted.\n",
    "* Define the graph using nice scopes so the graph looks good in TensorBoard.\n",
    "* Add summaries to visualize the learning curves in TensorBoard.\n",
    "* Try tweaking some hyperparameters such as the learning rate or the mini-batch size and look at the shape of the learning curve."
   ]
  },
  {
   "cell_type": "markdown",
   "metadata": {},
   "source": [
    "Before we start, we will add 4 more features to the inputs: ${x_1}^2$, ${x_2}^2$, ${x_1}^3$ and ${x_2}^3$. This was not part of the exercise, but it will demonstrate how adding features can improve the model. We will do this manually, but you could also add them using `sklearn.preprocessing.PolynomialFeatures`."
   ]
  },
  {
   "cell_type": "code",
   "execution_count": 102,
   "metadata": {},
   "outputs": [],
   "source": [
    "X_train_enhanced = np.c_[X_train,\n",
    "                         np.square(X_train[:, 1]),\n",
    "                         np.square(X_train[:, 2]),\n",
    "                         X_train[:, 1] ** 3,\n",
    "                         X_train[:, 2] ** 3]\n",
    "X_test_enhanced = np.c_[X_test,\n",
    "                        np.square(X_test[:, 1]),\n",
    "                        np.square(X_test[:, 2]),\n",
    "                        X_test[:, 1] ** 3,\n",
    "                        X_test[:, 2] ** 3]"
   ]
  },
  {
   "cell_type": "markdown",
   "metadata": {},
   "source": [
    "This is what the \"enhanced\" training set looks like:"
   ]
  },
  {
   "cell_type": "code",
   "execution_count": 103,
   "metadata": {},
   "outputs": [
    {
     "data": {
      "text/plain": [
       "array([[ 1.00000000e+00, -5.14696757e-02,  4.44198631e-01,\n",
       "         2.64912752e-03,  1.97312424e-01, -1.36349734e-04,\n",
       "         8.76459084e-02],\n",
       "       [ 1.00000000e+00,  1.03201691e+00, -4.19741157e-01,\n",
       "         1.06505890e+00,  1.76182639e-01,  1.09915879e+00,\n",
       "        -7.39511049e-02],\n",
       "       [ 1.00000000e+00,  8.67891864e-01, -2.54827114e-01,\n",
       "         7.53236288e-01,  6.49368582e-02,  6.53727646e-01,\n",
       "        -1.65476722e-02],\n",
       "       [ 1.00000000e+00,  2.88850997e-01, -4.48668621e-01,\n",
       "         8.34348982e-02,  2.01303531e-01,  2.41002535e-02,\n",
       "        -9.03185778e-02],\n",
       "       [ 1.00000000e+00, -8.33439108e-01,  5.35056649e-01,\n",
       "         6.94620746e-01,  2.86285618e-01, -5.78924095e-01,\n",
       "         1.53179024e-01]])"
      ]
     },
     "execution_count": 103,
     "metadata": {},
     "output_type": "execute_result"
    }
   ],
   "source": [
    "X_train_enhanced[:5]"
   ]
  },
  {
   "cell_type": "markdown",
   "metadata": {},
   "source": [
    "Ok, next let's reset the default graph:"
   ]
  },
  {
   "cell_type": "code",
   "execution_count": 104,
   "metadata": {},
   "outputs": [],
   "source": [
    "reset_graph()"
   ]
  },
  {
   "cell_type": "markdown",
   "metadata": {},
   "source": [
    "Now let's define the `logistic_regression()` function to create the graph. We will leave out the definition of the inputs `X` and the targets `y`. We could include them here, but leaving them out will make it easier to use this function in a wide range of use cases (e.g. perhaps we will want to add some preprocessing steps for the inputs before we feed them to the Logistic Regression model)."
   ]
  },
  {
   "cell_type": "code",
   "execution_count": 117,
   "metadata": {
    "collapsed": true
   },
   "outputs": [],
   "source": [
    "def logistic_regression(X, y, initializer=None, seed=42, learning_rate=0.01):\n",
    "    n_inputs_including_bias = int(X.get_shape()[1])\n",
    "    with tf.name_scope(\"logistic_regression\"):\n",
    "        with tf.name_scope(\"model\"):\n",
    "            if initializer is None:\n",
    "                initializer = tf.random_uniform([n_inputs_including_bias, 1], -1.0, 1.0, seed=seed)\n",
    "            theta = tf.Variable(initializer, name=\"theta\")\n",
    "            logits = tf.matmul(X, theta, name=\"logits\")\n",
    "            y_proba = tf.sigmoid(logits)\n",
    "        with tf.name_scope(\"train\"):\n",
    "            loss = tf.losses.log_loss(y, y_proba, scope=\"loss\")\n",
    "            optimizer = tf.train.GradientDescentOptimizer(learning_rate=learning_rate)\n",
    "            training_op = optimizer.minimize(loss)\n",
    "            loss_summary = tf.summary.scalar('log_loss', loss)\n",
    "        with tf.name_scope(\"init\"):\n",
    "            init = tf.global_variables_initializer()\n",
    "        with tf.name_scope(\"save\"):\n",
    "            saver = tf.train.Saver()\n",
    "    return y_proba, loss, training_op, loss_summary, init, saver"
   ]
  },
  {
   "cell_type": "markdown",
   "metadata": {},
   "source": [
    "Let's create a little function to get the name of the log directory to save the summaries for Tensorboard:"
   ]
  },
  {
   "cell_type": "code",
   "execution_count": 118,
   "metadata": {
    "collapsed": true
   },
   "outputs": [],
   "source": [
    "from datetime import datetime\n",
    "\n",
    "def log_dir(prefix=\"\"):\n",
    "    now = datetime.utcnow().strftime(\"%Y%m%d%H%M%S\")\n",
    "    root_logdir = \"tf_logs\"\n",
    "    if prefix:\n",
    "        prefix += \"-\"\n",
    "    name = prefix + \"run-\" + now\n",
    "    return \"{}/{}/\".format(root_logdir, name)"
   ]
  },
  {
   "cell_type": "markdown",
   "metadata": {},
   "source": [
    "Next, let's create the graph, using the `logistic_regression()` function. We will also create the `FileWriter` to save the summaries to the log directory for Tensorboard:"
   ]
  },
  {
   "cell_type": "code",
   "execution_count": 119,
   "metadata": {},
   "outputs": [],
   "source": [
    "n_inputs = 2 + 4\n",
    "logdir = log_dir(\"logreg\")\n",
    "\n",
    "X = tf.placeholder(tf.float32, shape=(None, n_inputs + 1), name=\"X\")\n",
    "y = tf.placeholder(tf.float32, shape=(None, 1), name=\"y\")\n",
    "\n",
    "y_proba, loss, training_op, loss_summary, init, saver = logistic_regression(X, y)\n",
    "\n",
    "file_writer = tf.summary.FileWriter(logdir, tf.get_default_graph())"
   ]
  },
  {
   "cell_type": "markdown",
   "metadata": {},
   "source": [
    "At last we can train the model! We will start by checking whether a previous training session was interrupted, and if so we will load the checkpoint and continue training from the epoch number we saved. In this example we just save the epoch number to a separate file, but in chapter 11 we will see how to store the training step directly as part of the model, using a non-trainable variable called `global_step` that we pass to the optimizer's `minimize()` method.\n",
    "\n",
    "You can try interrupting training to verify that it does indeed restore the last checkpoint when you start it again."
   ]
  },
  {
   "cell_type": "code",
   "execution_count": 120,
   "metadata": {},
   "outputs": [
    {
     "name": "stdout",
     "output_type": "stream",
     "text": [
      "Epoch: 0 \tLoss: 0.629985\n",
      "Epoch: 500 \tLoss: 0.161224\n",
      "Epoch: 1000 \tLoss: 0.119032\n",
      "Epoch: 1500 \tLoss: 0.0973292\n",
      "Epoch: 2000 \tLoss: 0.0836979\n",
      "Epoch: 2500 \tLoss: 0.0743758\n",
      "Epoch: 3000 \tLoss: 0.0675021\n",
      "Epoch: 3500 \tLoss: 0.0622069\n",
      "Epoch: 4000 \tLoss: 0.0580268\n",
      "Epoch: 4500 \tLoss: 0.054563\n",
      "Epoch: 5000 \tLoss: 0.0517083\n",
      "Epoch: 5500 \tLoss: 0.0492377\n",
      "Epoch: 6000 \tLoss: 0.0471673\n",
      "Epoch: 6500 \tLoss: 0.0453766\n",
      "Epoch: 7000 \tLoss: 0.0438187\n",
      "Epoch: 7500 \tLoss: 0.0423742\n",
      "Epoch: 8000 \tLoss: 0.0410892\n",
      "Epoch: 8500 \tLoss: 0.0399709\n",
      "Epoch: 9000 \tLoss: 0.0389202\n",
      "Epoch: 9500 \tLoss: 0.0380107\n",
      "Epoch: 10000 \tLoss: 0.0371557\n"
     ]
    }
   ],
   "source": [
    "n_epochs = 10001\n",
    "batch_size = 50\n",
    "n_batches = int(np.ceil(m / batch_size))\n",
    "\n",
    "checkpoint_path = \"/tmp/my_logreg_model.ckpt\"\n",
    "checkpoint_epoch_path = checkpoint_path + \".epoch\"\n",
    "final_model_path = \"./my_logreg_model\"\n",
    "\n",
    "with tf.Session() as sess:\n",
    "    if os.path.isfile(checkpoint_epoch_path):\n",
    "        # if the checkpoint file exists, restore the model and load the epoch number\n",
    "        with open(checkpoint_epoch_path, \"rb\") as f:\n",
    "            start_epoch = int(f.read())\n",
    "        print(\"Training was interrupted. Continuing at epoch\", start_epoch)\n",
    "        saver.restore(sess, checkpoint_path)\n",
    "    else:\n",
    "        start_epoch = 0\n",
    "        sess.run(init)\n",
    "\n",
    "    for epoch in range(start_epoch, n_epochs):\n",
    "        for batch_index in range(n_batches):\n",
    "            X_batch, y_batch = random_batch(X_train_enhanced, y_train, batch_size)\n",
    "            sess.run(training_op, feed_dict={X: X_batch, y: y_batch})\n",
    "        loss_val, summary_str = sess.run([loss, loss_summary], feed_dict={X: X_test_enhanced, y: y_test})\n",
    "        file_writer.add_summary(summary_str, epoch)\n",
    "        if epoch % 500 == 0:\n",
    "            print(\"Epoch:\", epoch, \"\\tLoss:\", loss_val)\n",
    "            saver.save(sess, checkpoint_path)\n",
    "            with open(checkpoint_epoch_path, \"wb\") as f:\n",
    "                f.write(b\"%d\" % (epoch + 1))\n",
    "\n",
    "    saver.save(sess, final_model_path)\n",
    "    y_proba_val = y_proba.eval(feed_dict={X: X_test_enhanced, y: y_test})\n",
    "    os.remove(checkpoint_epoch_path)"
   ]
  },
  {
   "cell_type": "markdown",
   "metadata": {},
   "source": [
    "Once again, we can make predictions by just classifying as positive all the instances whose estimated probability is greater or equal to 0.5:"
   ]
  },
  {
   "cell_type": "code",
   "execution_count": 121,
   "metadata": {
    "collapsed": true
   },
   "outputs": [],
   "source": [
    "y_pred = (y_proba_val >= 0.5)"
   ]
  },
  {
   "cell_type": "code",
   "execution_count": 122,
   "metadata": {},
   "outputs": [
    {
     "data": {
      "text/plain": [
       "0.97979797979797978"
      ]
     },
     "execution_count": 122,
     "metadata": {},
     "output_type": "execute_result"
    }
   ],
   "source": [
    "precision_score(y_test, y_pred)"
   ]
  },
  {
   "cell_type": "code",
   "execution_count": 123,
   "metadata": {},
   "outputs": [
    {
     "data": {
      "text/plain": [
       "0.97979797979797978"
      ]
     },
     "execution_count": 123,
     "metadata": {},
     "output_type": "execute_result"
    }
   ],
   "source": [
    "recall_score(y_test, y_pred)"
   ]
  },
  {
   "cell_type": "code",
   "execution_count": 124,
   "metadata": {},
   "outputs": [
    {
     "data": {
      "image/png": "iVBORw0KGgoAAAANSUhEUgAAAYcAAAEFCAYAAAAIZiutAAAABHNCSVQICAgIfAhkiAAAAAlwSFlz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\n",
      "text/plain": [
       "<matplotlib.figure.Figure at 0x7f96d29e95f8>"
      ]
     },
     "metadata": {},
     "output_type": "display_data"
    }
   ],
   "source": [
    "y_pred_idx = y_pred.reshape(-1) # a 1D array rather than a column vector\n",
    "plt.plot(X_test[y_pred_idx, 1], X_test[y_pred_idx, 2], 'go', label=\"Positive\")\n",
    "plt.plot(X_test[~y_pred_idx, 1], X_test[~y_pred_idx, 2], 'r^', label=\"Negative\")\n",
    "plt.legend()\n",
    "plt.show()"
   ]
  },
  {
   "cell_type": "markdown",
   "metadata": {},
   "source": [
    "Now that's much, much better! Apparently the new features really helped a lot."
   ]
  },
  {
   "cell_type": "markdown",
   "metadata": {},
   "source": [
    "Try starting the tensorboard server, find the latest run and look at the learning curve (i.e., how the loss evaluated on the test set evolves as a function of the epoch number):\n",
    "\n",
    "```\n",
    "$ tensorboard --logdir=tf_logs\n",
    "```"
   ]
  },
  {
   "cell_type": "markdown",
   "metadata": {},
   "source": [
    "Now you can play around with the hyperparameters (e.g. the `batch_size` or the `learning_rate`) and run training again and again, comparing the learning curves. You can even automate this process by implementing grid search or randomized search. Below is a simple implementation of a randomized search on both the batch size and the learning rate. For the sake of simplicity, the checkpoint mechanism was removed."
   ]
  },
  {
   "cell_type": "code",
   "execution_count": 125,
   "metadata": {},
   "outputs": [
    {
     "name": "stdout",
     "output_type": "stream",
     "text": [
      "Iteration 0\n",
      "  logdir: tf_logs/logreg-run-20170606195328/\n",
      "  batch size: 19\n",
      "  learning_rate: 0.00443037524522\n",
      "  training: .....................\n",
      "  precision: 0.979797979798\n",
      "  recall: 0.979797979798\n",
      "Iteration 1\n",
      "  logdir: tf_logs/logreg-run-20170606195605/\n",
      "  batch size: 80\n",
      "  learning_rate: 0.00178264971514\n",
      "  training: .....................\n",
      "  precision: 0.969696969697\n",
      "  recall: 0.969696969697\n",
      "Iteration 2\n",
      "  logdir: tf_logs/logreg-run-20170606195646/\n",
      "  batch size: 73\n",
      "  learning_rate: 0.00203228544324\n",
      "  training: .....................\n",
      "  precision: 0.969696969697\n",
      "  recall: 0.969696969697\n",
      "Iteration 3\n",
      "  logdir: tf_logs/logreg-run-20170606195730/\n",
      "  batch size: 6\n",
      "  learning_rate: 0.00449152382514\n",
      "  training: .....................\n",
      "  precision: 0.980198019802\n",
      "  recall: 1.0\n",
      "Iteration 4\n",
      "  logdir: tf_logs/logreg-run-20170606200523/\n",
      "  batch size: 24\n",
      "  learning_rate: 0.0796323472178\n",
      "  training: .....................\n",
      "  precision: 0.980198019802\n",
      "  recall: 1.0\n",
      "Iteration 5\n",
      "  logdir: tf_logs/logreg-run-20170606200726/\n",
      "  batch size: 75\n",
      "  learning_rate: 0.000463425058329\n",
      "  training: .....................\n",
      "  precision: 0.912621359223\n",
      "  recall: 0.949494949495\n",
      "Iteration 6\n",
      "  logdir: tf_logs/logreg-run-20170606200810/\n",
      "  batch size: 86\n",
      "  learning_rate: 0.0477068184194\n",
      "  training: .....................\n",
      "  precision: 0.98\n",
      "  recall: 0.989898989899\n",
      "Iteration 7\n",
      "  logdir: tf_logs/logreg-run-20170606200851/\n",
      "  batch size: 87\n",
      "  learning_rate: 0.000169404470952\n",
      "  training: .....................\n",
      "  precision: 0.888888888889\n",
      "  recall: 0.808080808081\n",
      "Iteration 8\n",
      "  logdir: tf_logs/logreg-run-20170606200932/\n",
      "  batch size: 61\n",
      "  learning_rate: 0.0417146119941\n",
      "  training: .....................\n",
      "  precision: 0.980198019802\n",
      "  recall: 1.0\n",
      "Iteration 9\n",
      "  logdir: tf_logs/logreg-run-20170606201026/\n",
      "  batch size: 92\n",
      "  learning_rate: 0.000107429229684\n",
      "  training: .....................\n",
      "  precision: 0.882352941176\n",
      "  recall: 0.757575757576\n"
     ]
    }
   ],
   "source": [
    "from scipy.stats import reciprocal\n",
    "\n",
    "n_search_iterations = 10\n",
    "\n",
    "for search_iteration in range(n_search_iterations):\n",
    "    batch_size = np.random.randint(1, 100)\n",
    "    learning_rate = reciprocal(0.0001, 0.1).rvs(random_state=search_iteration)\n",
    "\n",
    "    n_inputs = 2 + 4\n",
    "    logdir = log_dir(\"logreg\")\n",
    "    \n",
    "    print(\"Iteration\", search_iteration)\n",
    "    print(\"  logdir:\", logdir)\n",
    "    print(\"  batch size:\", batch_size)\n",
    "    print(\"  learning_rate:\", learning_rate)\n",
    "    print(\"  training: \", end=\"\")\n",
    "\n",
    "    reset_graph()\n",
    "\n",
    "    X = tf.placeholder(tf.float32, shape=(None, n_inputs + 1), name=\"X\")\n",
    "    y = tf.placeholder(tf.float32, shape=(None, 1), name=\"y\")\n",
    "\n",
    "    y_proba, loss, training_op, loss_summary, init, saver = logistic_regression(\n",
    "        X, y, learning_rate=learning_rate)\n",
    "\n",
    "    file_writer = tf.summary.FileWriter(logdir, tf.get_default_graph())\n",
    "\n",
    "    n_epochs = 10001\n",
    "    n_batches = int(np.ceil(m / batch_size))\n",
    "\n",
    "    final_model_path = \"./my_logreg_model_%d\" % search_iteration\n",
    "\n",
    "    with tf.Session() as sess:\n",
    "        sess.run(init)\n",
    "\n",
    "        for epoch in range(n_epochs):\n",
    "            for batch_index in range(n_batches):\n",
    "                X_batch, y_batch = random_batch(X_train_enhanced, y_train, batch_size)\n",
    "                sess.run(training_op, feed_dict={X: X_batch, y: y_batch})\n",
    "            loss_val, summary_str = sess.run([loss, loss_summary], feed_dict={X: X_test_enhanced, y: y_test})\n",
    "            file_writer.add_summary(summary_str, epoch)\n",
    "            if epoch % 500 == 0:\n",
    "                print(\".\", end=\"\")\n",
    "\n",
    "        saver.save(sess, final_model_path)\n",
    "\n",
    "        print()\n",
    "        y_proba_val = y_proba.eval(feed_dict={X: X_test_enhanced, y: y_test})\n",
    "        y_pred = (y_proba_val >= 0.5)\n",
    "        \n",
    "        print(\"  precision:\", precision_score(y_test, y_pred))\n",
    "        print(\"  recall:\", recall_score(y_test, y_pred))"
   ]
  },
  {
   "cell_type": "markdown",
   "metadata": {},
   "source": [
    "The `reciprocal()` function from SciPy's `stats` module returns a random distribution that is commonly used when you have no idea of the optimal scale of a hyperparameter. See the exercise solutions for chapter 2 for more details. "
   ]
  },
  {
   "cell_type": "code",
   "execution_count": null,
   "metadata": {
    "collapsed": true
   },
   "outputs": [],
   "source": []
  }
 ],
 "metadata": {
  "kernelspec": {
   "display_name": "Python 3",
   "language": "python",
   "name": "python3"
  },
  "language_info": {
   "codemirror_mode": {
    "name": "ipython",
    "version": 3
   },
   "file_extension": ".py",
   "mimetype": "text/x-python",
   "name": "python",
   "nbconvert_exporter": "python",
   "pygments_lexer": "ipython3",
   "version": "3.6.6"
  },
  "nav_menu": {
   "height": "603px",
   "width": "616px"
  },
  "toc": {
   "base_numbering": 1,
   "nav_menu": {},
   "number_sections": true,
   "sideBar": true,
   "skip_h1_title": false,
   "title_cell": "Table of Contents",
   "title_sidebar": "Contents",
   "toc_cell": false,
   "toc_position": {},
   "toc_section_display": "block",
   "toc_window_display": true
  }
 },
 "nbformat": 4,
 "nbformat_minor": 1
}
